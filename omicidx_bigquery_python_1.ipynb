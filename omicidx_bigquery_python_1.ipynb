{
 "cells": [
  {
   "cell_type": "raw",
   "metadata": {},
   "source": [
    "---\n",
    "title: \"OmicIDX on BigQuery\"\n",
    "date: \"2019-06-04\"\n",
    "---"
   ]
  },
  {
   "cell_type": "markdown",
   "metadata": {},
   "source": [
    "OmicIDX is a project to democratize access to omics *metadata*. As the sizes of omics\n",
    "repositories have grown into the millions of available samples, thinking of the \n",
    "metadata themselves as **Big Data** seems reasonable. Additionally, by making the \n",
    "metadata more fit-for-use for text mining, natural language processing, ingestion into\n",
    "machine learning or search engines, OmicIDX aims to facilitate augmentation and analysis\n",
    "of these metadata. \n",
    "\n",
    "In practice, the OmicIDX mines data from the NCBI [Sequence Read Archive (SRA)] (updated monthly) and\n",
    "NCBI [Biosample] databases (updated daily). \n",
    "\n",
    "[Biosample]: https://www.ncbi.nlm.nih.gov/biosample/\n",
    "[Sequence Read Archive (SRA)]: https://trace.ncbi.nlm.nih.gov/Traces/sra/sra.cgi?\n",
    "\n",
    "## What is BigQuery?\n",
    "\n",
    "[BigQuery] is an enterprise data warehouse and database. It is managed by Google, meaning\n",
    "there are no servers to set up, storage to manage, or configuration. Access to data stored in \n",
    "BigQuery can be public, limited to individuals, or to just the owner. \n",
    "\n",
    "In the case of OmicIDX, the data in BigQuery are publicly accessible. Querying the data\n",
    "still requires an account and billing to be activated, but Google offers free credits to \n",
    "new users that will allow *many* queries against the OmicIDX data.\n",
    "\n",
    "# Getting started\n",
    "\n",
    "Before using BigQuery in python, one needs to create an account with Google and activate the\n",
    "BigQuery engine. \n",
    "\n",
    "**See [here](https://cloud.google.com/bigquery/docs/quickstarts/quickstart-web-ui) for the quickstart\n",
    "tutorial. (5 minutes)**\n",
    "\n",
    "After completing the quickstart, navigate to:\n",
    "\n",
    "https://console.cloud.google.com/bigquery?project=isb-cgc-01-0006&folder&organizationId&p=isb-cgc-01-0006&d=omicidx&page=dataset\n",
    "\n",
    "On the left panel, you should now see the `isb-cgc-01-0006` project. Expanding that item, the `omicidx` \n",
    "dataset is available. \n",
    "\n",
    "At this point, explore the OmicIDX data via the Google Console. BigQuery uses standard SQL \n",
    "for queries. \n",
    "\n",
    "# Python access to BigQuery\n",
    "\n",
    "- Install [google-cloud-bigquery](https://cloud.google.com/bigquery/docs/reference/libraries) and follow instructions\n",
    "go get started.\n",
    "\n",
    "Note that while I am using python here, BigQuery client libraries are available for \n",
    "many languages. A command-line client (bq) is also available for shell scripting, etc.\n",
    "\n",
    "# Examples\n",
    "\n",
    "From here on out, the code can speak for itself. For more details on using BigQuery from python, check out the [documentation](https://googleapis.github.io/google-cloud-python/latest/bigquery/index.html)"
   ]
  },
  {
   "cell_type": "code",
   "execution_count": 1,
   "metadata": {},
   "outputs": [],
   "source": [
    "from google.cloud import bigquery"
   ]
  },
  {
   "cell_type": "code",
   "execution_count": 2,
   "metadata": {},
   "outputs": [],
   "source": [
    "import warnings\n",
    "warnings.filterwarnings('ignore')"
   ]
  },
  {
   "cell_type": "code",
   "execution_count": 3,
   "metadata": {},
   "outputs": [],
   "source": [
    "client = bigquery.Client()"
   ]
  },
  {
   "cell_type": "markdown",
   "metadata": {},
   "source": [
    "## Studies published by year"
   ]
  },
  {
   "cell_type": "code",
   "execution_count": 4,
   "metadata": {},
   "outputs": [],
   "source": [
    "sql_query = \"\"\"\n",
    "SELECT \n",
    "    DATE(\n",
    "    EXTRACT(YEAR FROM publish_date),\n",
    "    EXTRACT(MONTH FROM publish_date),\n",
    "    1) as month,\n",
    "    count(*) as studies\n",
    "FROM `isb-cgc-01-0006.omicidx.sra_study` \n",
    "where publish_date <= CURRENT_TIMESTAMP()\n",
    "GROUP BY month\n",
    "ORDER BY month desc;\n",
    "\"\"\""
   ]
  },
  {
   "cell_type": "markdown",
   "metadata": {},
   "source": [
    "Here, use a convenience method to convert results to a pandas dataframe. "
   ]
  },
  {
   "cell_type": "code",
   "execution_count": 5,
   "metadata": {},
   "outputs": [],
   "source": [
    "res = client.query(sql_query).to_dataframe()"
   ]
  },
  {
   "cell_type": "code",
   "execution_count": 6,
   "metadata": {},
   "outputs": [
    {
     "data": {
      "text/html": [
       "<div>\n",
       "<style scoped>\n",
       "    .dataframe tbody tr th:only-of-type {\n",
       "        vertical-align: middle;\n",
       "    }\n",
       "\n",
       "    .dataframe tbody tr th {\n",
       "        vertical-align: top;\n",
       "    }\n",
       "\n",
       "    .dataframe thead th {\n",
       "        text-align: right;\n",
       "    }\n",
       "</style>\n",
       "<table border=\"1\" class=\"dataframe\">\n",
       "  <thead>\n",
       "    <tr style=\"text-align: right;\">\n",
       "      <th></th>\n",
       "      <th>month</th>\n",
       "      <th>studies</th>\n",
       "    </tr>\n",
       "  </thead>\n",
       "  <tbody>\n",
       "    <tr>\n",
       "      <th>0</th>\n",
       "      <td>2019-06-01</td>\n",
       "      <td>219</td>\n",
       "    </tr>\n",
       "    <tr>\n",
       "      <th>1</th>\n",
       "      <td>2019-05-01</td>\n",
       "      <td>4762</td>\n",
       "    </tr>\n",
       "    <tr>\n",
       "      <th>2</th>\n",
       "      <td>2019-04-01</td>\n",
       "      <td>4230</td>\n",
       "    </tr>\n",
       "    <tr>\n",
       "      <th>3</th>\n",
       "      <td>2019-03-01</td>\n",
       "      <td>2796</td>\n",
       "    </tr>\n",
       "    <tr>\n",
       "      <th>4</th>\n",
       "      <td>2019-02-01</td>\n",
       "      <td>4132</td>\n",
       "    </tr>\n",
       "  </tbody>\n",
       "</table>\n",
       "</div>"
      ],
      "text/plain": [
       "        month  studies\n",
       "0  2019-06-01      219\n",
       "1  2019-05-01     4762\n",
       "2  2019-04-01     4230\n",
       "3  2019-03-01     2796\n",
       "4  2019-02-01     4132"
      ]
     },
     "execution_count": 6,
     "metadata": {},
     "output_type": "execute_result"
    }
   ],
   "source": [
    "res.head()"
   ]
  },
  {
   "cell_type": "markdown",
   "metadata": {},
   "source": [
    "The [seaborn](https://seaborn.pydata.org/) library is a high-level plotting library based on matplotlib. "
   ]
  },
  {
   "cell_type": "code",
   "execution_count": 7,
   "metadata": {},
   "outputs": [
    {
     "data": {
      "text/plain": [
       "<matplotlib.axes._subplots.AxesSubplot at 0x11f613160>"
      ]
     },
     "execution_count": 7,
     "metadata": {},
     "output_type": "execute_result"
    }
   ],
   "source": [
    "import matplotlib.pyplot as plt\n",
    "plt.figure(figsize=(16, 8))\n",
    "import seaborn as sns\n",
    "sns.scatterplot(x = \"month\", y = \"studies\", data = res)"
   ]
  },
  {
   "cell_type": "markdown",
   "metadata": {},
   "source": [
    "## Experiments by type\n",
    "\n",
    "The `sra_experiment` table contains most of the details about the experimental\n",
    "strategies. In particular, the `library_strategy` column "
   ]
  },
  {
   "cell_type": "code",
   "execution_count": 8,
   "metadata": {},
   "outputs": [],
   "source": [
    "sql_query = \"\"\"\n",
    "SELECT library_strategy, count(*) as count\n",
    "FROM `isb-cgc-01-0006.omicidx.sra_experiment`\n",
    "GROUP BY library_strategy \n",
    "ORDER BY count desc\"\"\""
   ]
  },
  {
   "cell_type": "code",
   "execution_count": 9,
   "metadata": {},
   "outputs": [],
   "source": [
    "res = client.query(sql_query).to_dataframe()"
   ]
  },
  {
   "cell_type": "code",
   "execution_count": 10,
   "metadata": {},
   "outputs": [
    {
     "data": {
      "text/html": [
       "<div>\n",
       "<style scoped>\n",
       "    .dataframe tbody tr th:only-of-type {\n",
       "        vertical-align: middle;\n",
       "    }\n",
       "\n",
       "    .dataframe tbody tr th {\n",
       "        vertical-align: top;\n",
       "    }\n",
       "\n",
       "    .dataframe thead th {\n",
       "        text-align: right;\n",
       "    }\n",
       "</style>\n",
       "<table border=\"1\" class=\"dataframe\">\n",
       "  <thead>\n",
       "    <tr style=\"text-align: right;\">\n",
       "      <th></th>\n",
       "      <th>library_strategy</th>\n",
       "      <th>count</th>\n",
       "    </tr>\n",
       "  </thead>\n",
       "  <tbody>\n",
       "    <tr>\n",
       "      <th>0</th>\n",
       "      <td>WGS</td>\n",
       "      <td>1839830</td>\n",
       "    </tr>\n",
       "    <tr>\n",
       "      <th>1</th>\n",
       "      <td>AMPLICON</td>\n",
       "      <td>1499138</td>\n",
       "    </tr>\n",
       "    <tr>\n",
       "      <th>2</th>\n",
       "      <td>RNA-Seq</td>\n",
       "      <td>1397258</td>\n",
       "    </tr>\n",
       "    <tr>\n",
       "      <th>3</th>\n",
       "      <td>OTHER</td>\n",
       "      <td>591845</td>\n",
       "    </tr>\n",
       "    <tr>\n",
       "      <th>4</th>\n",
       "      <td>WXS</td>\n",
       "      <td>316378</td>\n",
       "    </tr>\n",
       "    <tr>\n",
       "      <th>5</th>\n",
       "      <td>CLONE</td>\n",
       "      <td>134435</td>\n",
       "    </tr>\n",
       "    <tr>\n",
       "      <th>6</th>\n",
       "      <td>ChIP-Seq</td>\n",
       "      <td>127278</td>\n",
       "    </tr>\n",
       "    <tr>\n",
       "      <th>7</th>\n",
       "      <td>RAD-Seq</td>\n",
       "      <td>68102</td>\n",
       "    </tr>\n",
       "    <tr>\n",
       "      <th>8</th>\n",
       "      <td>POOLCLONE</td>\n",
       "      <td>57751</td>\n",
       "    </tr>\n",
       "    <tr>\n",
       "      <th>9</th>\n",
       "      <td>Targeted-Capture</td>\n",
       "      <td>55953</td>\n",
       "    </tr>\n",
       "    <tr>\n",
       "      <th>10</th>\n",
       "      <td>Bisulfite-Seq</td>\n",
       "      <td>51813</td>\n",
       "    </tr>\n",
       "    <tr>\n",
       "      <th>11</th>\n",
       "      <td>miRNA-Seq</td>\n",
       "      <td>42797</td>\n",
       "    </tr>\n",
       "    <tr>\n",
       "      <th>12</th>\n",
       "      <td>WGA</td>\n",
       "      <td>34278</td>\n",
       "    </tr>\n",
       "    <tr>\n",
       "      <th>13</th>\n",
       "      <td>ATAC-seq</td>\n",
       "      <td>33992</td>\n",
       "    </tr>\n",
       "    <tr>\n",
       "      <th>14</th>\n",
       "      <td>SELEX</td>\n",
       "      <td>30109</td>\n",
       "    </tr>\n",
       "  </tbody>\n",
       "</table>\n",
       "</div>"
      ],
      "text/plain": [
       "    library_strategy    count\n",
       "0                WGS  1839830\n",
       "1           AMPLICON  1499138\n",
       "2            RNA-Seq  1397258\n",
       "3              OTHER   591845\n",
       "4                WXS   316378\n",
       "5              CLONE   134435\n",
       "6           ChIP-Seq   127278\n",
       "7            RAD-Seq    68102\n",
       "8          POOLCLONE    57751\n",
       "9   Targeted-Capture    55953\n",
       "10     Bisulfite-Seq    51813\n",
       "11         miRNA-Seq    42797\n",
       "12               WGA    34278\n",
       "13          ATAC-seq    33992\n",
       "14             SELEX    30109"
      ]
     },
     "execution_count": 10,
     "metadata": {},
     "output_type": "execute_result"
    }
   ],
   "source": [
    "res.head(15)"
   ]
  },
  {
   "cell_type": "markdown",
   "metadata": {},
   "source": [
    "## Number of \"cancer\" studies\n",
    "\n",
    "BigQuery is a capable system even for full text searching. In this case,\n",
    "the `abstract`, `title`, and `description` fields for a study contain the \n",
    "largest amount of free text. Searching each separately is a possibility, \n",
    "but BigQuery has a `CONCAT` operator that can build up a single long string\n",
    "for search. Converting that string to all lower-case (using `LOWER`) facilitates\n",
    "case-insensitive search for `cancer`. Note that in SQL, the wildcard character\n",
    "is `%`. "
   ]
  },
  {
   "cell_type": "code",
   "execution_count": 11,
   "metadata": {},
   "outputs": [],
   "source": [
    "sql_query = \"\"\"\n",
    "SELECT count(*) as count\n",
    "FROM `isb-cgc-01-0006.omicidx.sra_study`\n",
    "WHERE LOWER(CONCAT(abstract, \" \", title, \" \", description)) like '%cancer%'\n",
    "\"\"\""
   ]
  },
  {
   "cell_type": "code",
   "execution_count": 12,
   "metadata": {},
   "outputs": [],
   "source": [
    "res = client.query(sql_query).to_dataframe()"
   ]
  },
  {
   "cell_type": "code",
   "execution_count": 13,
   "metadata": {},
   "outputs": [
    {
     "name": "stdout",
     "output_type": "stream",
     "text": [
      "There are 734 studies in which `cancer`  appears in the title, abstract, or description\n"
     ]
    }
   ],
   "source": [
    "print(\"There are {0} studies in which `cancer`  appears in the title, abstract, or description\".format( res['count'][0]))"
   ]
  },
  {
   "cell_type": "markdown",
   "metadata": {},
   "source": [
    "## Distribution of number of attributes per sample\n",
    "\n",
    "The `sra_sample` table contains most of the metadata that are associated with\n",
    "the \"phenotype\" or \"characteristics\" of the sample. The sample attributes are \n",
    "included in a \"nested column\" in BigQuery. The array length\n",
    "of that the `attributes` column then gives the number of distinct attributes \n",
    "for each sample. While pulling those results, one-per-sample, back into python\n",
    "is one way to proceed, writing a SQL query that creates the histogram for us\n",
    "will be more efficient."
   ]
  },
  {
   "cell_type": "code",
   "execution_count": 14,
   "metadata": {},
   "outputs": [],
   "source": [
    "sql_query = \"\"\"\n",
    "with t as\n",
    "  (SELECT array_length(attributes) as attribute_count\n",
    "  FROM `isb-cgc-01-0006.omicidx.sra_sample`) \n",
    "SELECT t.attribute_count, count(*) as nbr_of_samples\n",
    "  FROM t\n",
    "  GROUP BY attribute_count\n",
    "  ORDER BY attribute_count asc\n",
    "\"\"\""
   ]
  },
  {
   "cell_type": "code",
   "execution_count": 15,
   "metadata": {},
   "outputs": [],
   "source": [
    "res = client.query(sql_query).to_dataframe()"
   ]
  },
  {
   "cell_type": "code",
   "execution_count": 16,
   "metadata": {},
   "outputs": [
    {
     "data": {
      "image/png": "[encoded data removed]",
      "text/plain": [
       "<Figure size 1152x576 with 1 Axes>"
      ]
     },
     "metadata": {
      "needs_background": "light"
     },
     "output_type": "display_data"
    }
   ],
   "source": [
    "plt.figure(figsize=(16, 8))\n",
    "g = sns.scatterplot(x=\"attribute_count\", y=\"nbr_of_samples\", data=res)\n",
    "g.set_yscale('log')\n",
    "plt.show()"
   ]
  },
  {
   "cell_type": "markdown",
   "metadata": {},
   "source": [
    "# Conclusion\n",
    "\n",
    "This little post is just to whet the appetite. BigQuery is a new technology\n",
    "for many informatics folks, but it is quite powerful, extensible, and is\n",
    "nearly free for datasets of even modest size. With libraries for R, python, \n",
    "java, as well as a simple command-line client, access to OmicIDX in BigQuery\n",
    "is well-supported.\n",
    "\n",
    "Other approaches to accessing OmicIDX data are forthcoming. "
   ]
  }
 ],
 "metadata": {
  "kernelspec": {
   "display_name": "omicidx_examples",
   "language": "python",
   "name": "omicidx_examples"
  },
  "language_info": {
   "codemirror_mode": {
    "name": "ipython",
    "version": 3
   },
   "file_extension": ".py",
   "mimetype": "text/x-python",
   "name": "python",
   "nbconvert_exporter": "python",
   "pygments_lexer": "ipython3",
   "version": "3.7.1"
  }
 },
 "nbformat": 4,
 "nbformat_minor": 2
}
