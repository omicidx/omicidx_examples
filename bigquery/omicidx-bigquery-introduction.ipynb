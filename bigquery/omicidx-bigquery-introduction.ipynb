{
  "nbformat": 4,
  "nbformat_minor": 0,
  "metadata": {
    "kernelspec": {
      "display_name": "omicidx_examples",
      "language": "python",
      "name": "omicidx_examples"
    },
    "language_info": {
      "codemirror_mode": {
        "name": "ipython",
        "version": 3
      },
      "file_extension": ".py",
      "mimetype": "text/x-python",
      "name": "python",
      "nbconvert_exporter": "python",
      "pygments_lexer": "ipython3",
      "version": "3.7.1"
    },
    "colab": {
      "name": "omicidx_bigquery_python_1.ipynb",
      "provenance": [],
      "include_colab_link": true
    }
  },
  "cells": [
    {
      "cell_type": "markdown",
      "metadata": {
        "id": "view-in-github",
        "colab_type": "text"
      },
      "source": [
        "<a href=\"https://colab.research.google.com/github/omicidx/omicidx_examples/blob/master/bigquery/omicidx-bigquery-introduction.ipynb\" target=\"_parent\"><img src=\"https://colab.research.google.com/assets/colab-badge.svg\" alt=\"Open In Colab\"/></a>"
      ]
    },
    {
      "cell_type": "markdown",
      "metadata": {
        "id": "bNnYExbaRKMO",
        "colab_type": "text"
      },
      "source": [
        "---\n",
        "title: \"OmicIDX on BigQuery\"\n",
        "date: \"2019-06-04\"\n",
        "---"
      ]
    },
    {
      "cell_type": "markdown",
      "metadata": {
        "id": "wDZufKg5RKMS",
        "colab_type": "text"
      },
      "source": [
        "*Availability*: This ipython notebook is available at https://github.com/seandavi/omicidx_examples.\n",
        "\n",
        "OmicIDX is a project to democratize access to omics *metadata*. As the sizes of omics\n",
        "repositories have grown into the millions of available samples, thinking of the \n",
        "metadata themselves as **Big Data** seems reasonable. Additionally, by making the \n",
        "metadata more fit-for-use for text mining, natural language processing, ingestion into\n",
        "machine learning or search engines, OmicIDX aims to facilitate augmentation and analysis\n",
        "of these metadata. \n",
        "\n",
        "In practice, the OmicIDX mines data from the NCBI [Sequence Read Archive (SRA)] (updated monthly) and\n",
        "NCBI [Biosample] databases (updated daily). \n",
        "\n",
        "[Biosample]: https://www.ncbi.nlm.nih.gov/biosample/\n",
        "[Sequence Read Archive (SRA)]: https://trace.ncbi.nlm.nih.gov/Traces/sra/sra.cgi?\n",
        "\n",
        "## What is BigQuery?\n",
        "\n",
        "[BigQuery] is an enterprise data warehouse and database. It is managed by Google, meaning\n",
        "there are no servers to set up, storage to manage, or configuration. Access to data stored in \n",
        "BigQuery can be public, limited to individuals, or to just the owner. \n",
        "\n",
        "In the case of OmicIDX, the data in BigQuery are publicly accessible. Querying the data\n",
        "still requires an account and billing to be activated, but Google offers free credits to \n",
        "new users that will allow *many* queries against the OmicIDX data.\n",
        "\n",
        "# Getting started\n",
        "\n",
        "Before using BigQuery in python, one needs to create an account with Google and activate the\n",
        "BigQuery engine. \n",
        "\n",
        "**See [here](https://cloud.google.com/bigquery/docs/quickstarts/quickstart-web-ui) for the quickstart\n",
        "tutorial. (5 minutes)**\n",
        "\n",
        "After completing the quickstart, navigate to:\n",
        "\n",
        "https://console.cloud.google.com/bigquery?project=isb-cgc-01-0006&folder&organizationId&p=isb-cgc-01-0006&d=omicidx&page=dataset\n",
        "\n",
        "On the left panel, you should now see the `isb-cgc-01-0006` project. Expanding that item, the `omicidx` \n",
        "dataset is available. \n",
        "\n",
        "At this point, explore the OmicIDX data via the Google Console. BigQuery uses standard SQL \n",
        "for queries. \n",
        "\n",
        "# Python access to BigQuery\n",
        "\n",
        "- Install [google-cloud-bigquery](https://cloud.google.com/bigquery/docs/reference/libraries) and follow instructions\n",
        "go get started.\n",
        "\n",
        "Note that while I am using python here, BigQuery client libraries are available for \n",
        "many languages. A command-line client (bq) is also available for shell scripting, etc.\n",
        "\n",
        "# Examples\n",
        "\n",
        "From here on out, the code can speak for itself. For more details on using BigQuery from python, check out the [documentation](https://googleapis.github.io/google-cloud-python/latest/bigquery/index.html)"
      ]
    },
    {
      "cell_type": "code",
      "metadata": {
        "id": "V2Mn4A0zRKMT",
        "colab_type": "code",
        "colab": {}
      },
      "source": [
        "from google.cloud import bigquery"
      ],
      "execution_count": 0,
      "outputs": []
    },
    {
      "cell_type": "code",
      "metadata": {
        "id": "zpl1XSq9RKMX",
        "colab_type": "code",
        "colab": {}
      },
      "source": [
        "import warnings\n",
        "warnings.filterwarnings('ignore')"
      ],
      "execution_count": 0,
      "outputs": []
    },
    {
      "cell_type": "code",
      "metadata": {
        "id": "yzr-k7qCRKMb",
        "colab_type": "code",
        "colab": {}
      },
      "source": [
        "from google.colab.auth import authenticate_user\n",
        "authenticate_user()\n",
        "client = bigquery.Client(project='isb-cgc-01-0006')\n"
      ],
      "execution_count": 0,
      "outputs": []
    },
    {
      "cell_type": "markdown",
      "metadata": {
        "id": "feX_po_IRKMe",
        "colab_type": "text"
      },
      "source": [
        "## Studies published by year"
      ]
    },
    {
      "cell_type": "code",
      "metadata": {
        "id": "9WaAEhE3RKMf",
        "colab_type": "code",
        "colab": {}
      },
      "source": [
        "sql_query = \"\"\"\n",
        "SELECT \n",
        "    DATE(\n",
        "    EXTRACT(YEAR FROM published),\n",
        "    EXTRACT(MONTH FROM published),\n",
        "    1) as month,\n",
        "    count(*) as studies\n",
        "FROM `isb-cgc-01-0006.omicidx.sra_study` \n",
        "where CAST(published as TIMESTAMP) <= CURRENT_TIMESTAMP()\n",
        "GROUP BY month\n",
        "ORDER BY month desc;\n",
        "\"\"\""
      ],
      "execution_count": 0,
      "outputs": []
    },
    {
      "cell_type": "markdown",
      "metadata": {
        "id": "ql6j1zriRKMh",
        "colab_type": "text"
      },
      "source": [
        "Here, use a convenience method to convert results to a pandas dataframe. "
      ]
    },
    {
      "cell_type": "code",
      "metadata": {
        "id": "fyA2_38WRKMl",
        "colab_type": "code",
        "colab": {}
      },
      "source": [
        "res = client.query(sql_query).to_dataframe()"
      ],
      "execution_count": 0,
      "outputs": []
    },
    {
      "cell_type": "code",
      "metadata": {
        "id": "cItA_9TiRKMp",
        "colab_type": "code",
        "colab": {},
        "outputId": "6452c356-030c-4d3d-c5c0-06a5dfe3bc86"
      },
      "source": [
        "res.head()"
      ],
      "execution_count": 0,
      "outputs": [
        {
          "output_type": "execute_result",
          "data": {
            "text/html": [
              "<div>\n",
              "<style scoped>\n",
              "    .dataframe tbody tr th:only-of-type {\n",
              "        vertical-align: middle;\n",
              "    }\n",
              "\n",
              "    .dataframe tbody tr th {\n",
              "        vertical-align: top;\n",
              "    }\n",
              "\n",
              "    .dataframe thead th {\n",
              "        text-align: right;\n",
              "    }\n",
              "</style>\n",
              "<table border=\"1\" class=\"dataframe\">\n",
              "  <thead>\n",
              "    <tr style=\"text-align: right;\">\n",
              "      <th></th>\n",
              "      <th>month</th>\n",
              "      <th>studies</th>\n",
              "    </tr>\n",
              "  </thead>\n",
              "  <tbody>\n",
              "    <tr>\n",
              "      <th>0</th>\n",
              "      <td>2019-08-01</td>\n",
              "      <td>319</td>\n",
              "    </tr>\n",
              "    <tr>\n",
              "      <th>1</th>\n",
              "      <td>2019-07-01</td>\n",
              "      <td>4946</td>\n",
              "    </tr>\n",
              "    <tr>\n",
              "      <th>2</th>\n",
              "      <td>2019-06-01</td>\n",
              "      <td>2800</td>\n",
              "    </tr>\n",
              "    <tr>\n",
              "      <th>3</th>\n",
              "      <td>2019-05-01</td>\n",
              "      <td>5595</td>\n",
              "    </tr>\n",
              "    <tr>\n",
              "      <th>4</th>\n",
              "      <td>2019-04-01</td>\n",
              "      <td>4227</td>\n",
              "    </tr>\n",
              "  </tbody>\n",
              "</table>\n",
              "</div>"
            ],
            "text/plain": [
              "        month  studies\n",
              "0  2019-08-01      319\n",
              "1  2019-07-01     4946\n",
              "2  2019-06-01     2800\n",
              "3  2019-05-01     5595\n",
              "4  2019-04-01     4227"
            ]
          },
          "metadata": {
            "tags": []
          },
          "execution_count": 6
        }
      ]
    },
    {
      "cell_type": "markdown",
      "metadata": {
        "id": "jXepcxOXRKMv",
        "colab_type": "text"
      },
      "source": [
        "The [seaborn](https://seaborn.pydata.org/) library is a high-level plotting library based on matplotlib. "
      ]
    },
    {
      "cell_type": "code",
      "metadata": {
        "id": "hOekVxaeRKMw",
        "colab_type": "code",
        "colab": {
          "base_uri": "https://localhost:8080/",
          "height": 514
        },
        "outputId": "523bff20-70f4-4849-cd85-2484fecc1436"
      },
      "source": [
        "import matplotlib.pyplot as plt\n",
        "plt.figure(figsize=(16, 8))\n",
        "import seaborn as sns\n",
        "sns.scatterplot(x = \"month\", y = \"studies\", data = res)"
      ],
      "execution_count": 22,
      "outputs": [
        {
          "output_type": "execute_result",
          "data": {
            "text/plain": [
              "<matplotlib.axes._subplots.AxesSubplot at 0x7fe4542c54a8>"
            ]
          },
          "metadata": {
            "tags": []
          },
          "execution_count": 22
        },
        {
          "output_type": "display_data",
          "data": {
            "image/png": "[encoded data removed]",
            "text/plain": [
              "<Figure size 1152x576 with 1 Axes>"
            ]
          },
          "metadata": {
            "tags": []
          }
        }
      ]
    },
    {
      "cell_type": "markdown",
      "metadata": {
        "id": "DYaUzpr4RKMz",
        "colab_type": "text"
      },
      "source": [
        "## Experiments by type\n",
        "\n",
        "The `sra_experiment` table contains most of the details about the experimental\n",
        "strategies. In particular, the `library_strategy` column "
      ]
    },
    {
      "cell_type": "code",
      "metadata": {
        "id": "VxZEbsBRRKM0",
        "colab_type": "code",
        "colab": {}
      },
      "source": [
        "sql_query = \"\"\"\n",
        "SELECT library_strategy, count(*) as count\n",
        "FROM `isb-cgc-01-0006.omicidx.sra_experiment`\n",
        "GROUP BY library_strategy \n",
        "ORDER BY count desc\"\"\""
      ],
      "execution_count": 0,
      "outputs": []
    },
    {
      "cell_type": "code",
      "metadata": {
        "id": "1PHHJJ0CRKM2",
        "colab_type": "code",
        "colab": {}
      },
      "source": [
        "res = client.query(sql_query).to_dataframe()"
      ],
      "execution_count": 0,
      "outputs": []
    },
    {
      "cell_type": "code",
      "metadata": {
        "id": "DLa3xsXlRKM4",
        "colab_type": "code",
        "colab": {
          "base_uri": "https://localhost:8080/",
          "height": 514
        },
        "outputId": "7d7a41e3-14b4-4be9-c59f-6a7904e0d3fc"
      },
      "source": [
        "res.head(15)"
      ],
      "execution_count": 25,
      "outputs": [
        {
          "output_type": "execute_result",
          "data": {
            "text/html": [
              "<div>\n",
              "<style scoped>\n",
              "    .dataframe tbody tr th:only-of-type {\n",
              "        vertical-align: middle;\n",
              "    }\n",
              "\n",
              "    .dataframe tbody tr th {\n",
              "        vertical-align: top;\n",
              "    }\n",
              "\n",
              "    .dataframe thead th {\n",
              "        text-align: right;\n",
              "    }\n",
              "</style>\n",
              "<table border=\"1\" class=\"dataframe\">\n",
              "  <thead>\n",
              "    <tr style=\"text-align: right;\">\n",
              "      <th></th>\n",
              "      <th>library_strategy</th>\n",
              "      <th>count</th>\n",
              "    </tr>\n",
              "  </thead>\n",
              "  <tbody>\n",
              "    <tr>\n",
              "      <th>0</th>\n",
              "      <td>WGS</td>\n",
              "      <td>2159030</td>\n",
              "    </tr>\n",
              "    <tr>\n",
              "      <th>1</th>\n",
              "      <td>AMPLICON</td>\n",
              "      <td>1843239</td>\n",
              "    </tr>\n",
              "    <tr>\n",
              "      <th>2</th>\n",
              "      <td>RNA-Seq</td>\n",
              "      <td>1631234</td>\n",
              "    </tr>\n",
              "    <tr>\n",
              "      <th>3</th>\n",
              "      <td>OTHER</td>\n",
              "      <td>666664</td>\n",
              "    </tr>\n",
              "    <tr>\n",
              "      <th>4</th>\n",
              "      <td>WXS</td>\n",
              "      <td>343293</td>\n",
              "    </tr>\n",
              "    <tr>\n",
              "      <th>5</th>\n",
              "      <td>ChIP-Seq</td>\n",
              "      <td>153242</td>\n",
              "    </tr>\n",
              "    <tr>\n",
              "      <th>6</th>\n",
              "      <td>CLONE</td>\n",
              "      <td>136570</td>\n",
              "    </tr>\n",
              "    <tr>\n",
              "      <th>7</th>\n",
              "      <td>RAD-Seq</td>\n",
              "      <td>101172</td>\n",
              "    </tr>\n",
              "    <tr>\n",
              "      <th>8</th>\n",
              "      <td>Targeted-Capture</td>\n",
              "      <td>75097</td>\n",
              "    </tr>\n",
              "    <tr>\n",
              "      <th>9</th>\n",
              "      <td>POOLCLONE</td>\n",
              "      <td>58477</td>\n",
              "    </tr>\n",
              "    <tr>\n",
              "      <th>10</th>\n",
              "      <td>Bisulfite-Seq</td>\n",
              "      <td>56824</td>\n",
              "    </tr>\n",
              "    <tr>\n",
              "      <th>11</th>\n",
              "      <td>miRNA-Seq</td>\n",
              "      <td>48612</td>\n",
              "    </tr>\n",
              "    <tr>\n",
              "      <th>12</th>\n",
              "      <td>ATAC-seq</td>\n",
              "      <td>48258</td>\n",
              "    </tr>\n",
              "    <tr>\n",
              "      <th>13</th>\n",
              "      <td>WGA</td>\n",
              "      <td>41368</td>\n",
              "    </tr>\n",
              "    <tr>\n",
              "      <th>14</th>\n",
              "      <td>SELEX</td>\n",
              "      <td>30152</td>\n",
              "    </tr>\n",
              "  </tbody>\n",
              "</table>\n",
              "</div>"
            ],
            "text/plain": [
              "    library_strategy    count\n",
              "0                WGS  2159030\n",
              "1           AMPLICON  1843239\n",
              "2            RNA-Seq  1631234\n",
              "3              OTHER   666664\n",
              "4                WXS   343293\n",
              "5           ChIP-Seq   153242\n",
              "6              CLONE   136570\n",
              "7            RAD-Seq   101172\n",
              "8   Targeted-Capture    75097\n",
              "9          POOLCLONE    58477\n",
              "10     Bisulfite-Seq    56824\n",
              "11         miRNA-Seq    48612\n",
              "12          ATAC-seq    48258\n",
              "13               WGA    41368\n",
              "14             SELEX    30152"
            ]
          },
          "metadata": {
            "tags": []
          },
          "execution_count": 25
        }
      ]
    },
    {
      "cell_type": "markdown",
      "metadata": {
        "id": "GFMKxIPkRKM7",
        "colab_type": "text"
      },
      "source": [
        "## Number of \"cancer\" studies\n",
        "\n",
        "BigQuery is a capable system even for full text searching. In this case,\n",
        "the `abstract`, `title`, and `description` fields for a study contain the \n",
        "largest amount of free text. Searching each separately is a possibility, \n",
        "but BigQuery has a `CONCAT` operator that can build up a single long string\n",
        "for search. Converting that string to all lower-case (using `LOWER`) facilitates\n",
        "case-insensitive search for `cancer`. Note that in SQL, the wildcard character\n",
        "is `%`. "
      ]
    },
    {
      "cell_type": "code",
      "metadata": {
        "id": "9e_tR211RKM8",
        "colab_type": "code",
        "colab": {}
      },
      "source": [
        "sql_query = \"\"\"\n",
        "SELECT count(*) as count\n",
        "FROM `isb-cgc-01-0006.omicidx.sra_study`\n",
        "WHERE LOWER(CONCAT(abstract, \" \", title, \" \", description)) like '%cancer%'\n",
        "\"\"\""
      ],
      "execution_count": 0,
      "outputs": []
    },
    {
      "cell_type": "code",
      "metadata": {
        "id": "48cGGYAwRKM-",
        "colab_type": "code",
        "colab": {}
      },
      "source": [
        "res = client.query(sql_query).to_dataframe()"
      ],
      "execution_count": 0,
      "outputs": []
    },
    {
      "cell_type": "code",
      "metadata": {
        "id": "S2RQHw_nRKNA",
        "colab_type": "code",
        "colab": {
          "base_uri": "https://localhost:8080/",
          "height": 34
        },
        "outputId": "539d16d7-7f07-43d8-8f6d-ecfb078cbe96"
      },
      "source": [
        "print(\"There are {0} studies in which `cancer`  appears in the title, abstract, or description\".format( res['count'][0]))"
      ],
      "execution_count": 28,
      "outputs": [
        {
          "output_type": "stream",
          "text": [
            "There are 830 studies in which `cancer`  appears in the title, abstract, or description\n"
          ],
          "name": "stdout"
        }
      ]
    },
    {
      "cell_type": "markdown",
      "metadata": {
        "id": "qXZ_gOsHRKND",
        "colab_type": "text"
      },
      "source": [
        "## Distribution of number of attributes per sample\n",
        "\n",
        "The `sra_sample` table contains most of the metadata that are associated with\n",
        "the \"phenotype\" or \"characteristics\" of the sample. The sample attributes are \n",
        "included in a \"nested column\" in BigQuery. The array length\n",
        "of that the `attributes` column then gives the number of distinct attributes \n",
        "for each sample. While pulling those results, one-per-sample, back into python\n",
        "is one way to proceed, writing a SQL query that creates the histogram for us\n",
        "will be more efficient."
      ]
    },
    {
      "cell_type": "code",
      "metadata": {
        "id": "TTopBzN2RKNE",
        "colab_type": "code",
        "colab": {}
      },
      "source": [
        "sql_query = \"\"\"\n",
        "with t as\n",
        "  (SELECT array_length(attributes) as attribute_count\n",
        "  FROM `isb-cgc-01-0006.omicidx.sra_sample`) \n",
        "SELECT t.attribute_count, count(*) as nbr_of_samples\n",
        "  FROM t\n",
        "  GROUP BY attribute_count\n",
        "  ORDER BY attribute_count asc\n",
        "\"\"\""
      ],
      "execution_count": 0,
      "outputs": []
    },
    {
      "cell_type": "code",
      "metadata": {
        "id": "8mqA9CUrRKNG",
        "colab_type": "code",
        "colab": {}
      },
      "source": [
        "res = client.query(sql_query).to_dataframe()"
      ],
      "execution_count": 0,
      "outputs": []
    },
    {
      "cell_type": "code",
      "metadata": {
        "id": "95UIoMyzRKNJ",
        "colab_type": "code",
        "colab": {
          "base_uri": "https://localhost:8080/",
          "height": 498
        },
        "outputId": "8b3bd095-c280-411a-d3da-e5060ec36fc7"
      },
      "source": [
        "plt.figure(figsize=(16, 8))\n",
        "g = sns.scatterplot(x=\"attribute_count\", y=\"nbr_of_samples\", data=res)\n",
        "g.set_yscale('log')\n",
        "plt.show()"
      ],
      "execution_count": 31,
      "outputs": [
        {
          "output_type": "display_data",
          "data": {
            "image/png": "[encoded data removed]",
            "text/plain": [
              "<Figure size 1152x576 with 1 Axes>"
            ]
          },
          "metadata": {
            "tags": []
          }
        }
      ]
    },
    {
      "cell_type": "markdown",
      "metadata": {
        "id": "j66SKeMnRKNM",
        "colab_type": "text"
      },
      "source": [
        "# Conclusion\n",
        "\n",
        "This little post is just to whet the appetite. BigQuery is a new technology\n",
        "for many informatics folks, but it is quite powerful, extensible, and is\n",
        "nearly free for datasets of even modest size. With libraries for R, python, \n",
        "java, as well as a simple command-line client, access to OmicIDX in BigQuery\n",
        "is well-supported.\n",
        "\n",
        "Other approaches to accessing OmicIDX data are forthcoming. "
      ]
    },
    {
      "cell_type": "code",
      "metadata": {
        "id": "7S5rmbkjRKNN",
        "colab_type": "code",
        "colab": {}
      },
      "source": [
        ""
      ],
      "execution_count": 0,
      "outputs": []
    }
  ]
}
