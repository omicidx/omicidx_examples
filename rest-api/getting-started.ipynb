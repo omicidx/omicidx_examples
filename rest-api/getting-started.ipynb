{
 "cells": [
  {
   "cell_type": "markdown",
   "metadata": {
    "ein.tags": "worksheet-0",
    "slideshow": {
     "slide_type": "-"
    }
   },
   "source": [
    "# Introduction to the OmicIDX API"
   ]
  },
  {
   "cell_type": "markdown",
   "metadata": {
    "ein.tags": "worksheet-0",
    "slideshow": {
     "slide_type": "-"
    }
   },
   "source": [
    "# Use Cases"
   ]
  },
  {
   "cell_type": "markdown",
   "metadata": {
    "ein.tags": "worksheet-0",
    "slideshow": {
     "slide_type": "-"
    }
   },
   "source": [
    "## Retrieve a single entry\n",
    "\n",
    "We are going to start from scratch with a nuts-and-bolts approach to accessing _OmicIDX_ data. \n",
    "For this first example, let us assume that we know the accession number of an SRA study of interest.\n",
    "In this case, the example accession is `SRP012682`. Most folks will not recognize the significance\n",
    "of a specific SRA accession, but they can be broken down into components. In particular, the first three\n",
    "letters tell us the source of the accession as well as the type. \n",
    "\n",
    "The first letter will be an `S`, an `E`, or a `D` and signify that the accession originates with NCBI (S) in the US, \n",
    "EBI (E) in Europe, or DDBJ (D) in Japan, respectively. \n",
    "\n",
    "The third letter signifies the type of record in the SRA database. \n",
    "\n",
    "- `P` for study (or project)\n",
    "- `S` for sample\n",
    "- `X` for experiment\n",
    "- `R` for run\n",
    "\n",
    "So, the accession, `SRP012682` means that we are going to be fetching information about an SRA study (`P`) from a \n",
    "project that was originally submitted to NCBI (`S`) in the US.\n",
    "\n",
    "We will be using the python `requests` library to access the _OmicIDX_ API. As a first step, be sure to install the \n",
    "library:\n",
    "\n",
    "```bash\n",
    "pip install requests\n",
    "```\n",
    "\n",
    "Once installed, we can proceed with this introduction."
   ]
  },
  {
   "cell_type": "code",
   "execution_count": 28,
   "metadata": {
    "autoscroll": false,
    "collapsed": false,
    "ein.hycell": false,
    "ein.tags": "worksheet-0",
    "slideshow": {
     "slide_type": "-"
    }
   },
   "outputs": [],
   "source": [
    "import requests"
   ]
  },
  {
   "cell_type": "markdown",
   "metadata": {
    "ein.tags": "worksheet-0",
    "slideshow": {
     "slide_type": "-"
    }
   },
   "source": [
    "In general, API requests will include at least the `host` part of a URL and the `path` part. In this case, an additional component\n",
    "of the API call is a *known* accession. Here, I assign these separate components to "
   ]
  },
  {
   "cell_type": "code",
   "execution_count": 29,
   "metadata": {
    "autoscroll": false,
    "collapsed": false,
    "ein.hycell": false,
    "ein.tags": "worksheet-0",
    "slideshow": {
     "slide_type": "-"
    }
   },
   "outputs": [
    {
     "name": "stdout",
     "output_type": "stream",
     "text": [
      "http://api.omicidx.cancerdatasci.org/sra/studies/SRP012682\n"
     ]
    }
   ],
   "source": [
    "host = 'http://api.omicidx.cancerdatasci.org'\n",
    "path = '/sra/studies/'\n",
    "accession = 'SRP012682'\n",
    "url = host + path + accession\n",
    "print(url)"
   ]
  },
  {
   "cell_type": "markdown",
   "metadata": {
    "ein.tags": "worksheet-0",
    "slideshow": {
     "slide_type": "-"
    }
   },
   "source": [
    "Now, we can use the `requests.get()` function to retrieve the contents of the URL."
   ]
  },
  {
   "cell_type": "code",
   "execution_count": 30,
   "metadata": {
    "autoscroll": false,
    "collapsed": false,
    "ein.hycell": false,
    "ein.tags": "worksheet-0",
    "slideshow": {
     "slide_type": "-"
    }
   },
   "outputs": [
    {
     "data": {
      "text/plain": [
       "requests.models.Response"
      ]
     },
     "execution_count": 30,
     "metadata": {},
     "output_type": "execute_result"
    }
   ],
   "source": [
    "response = requests.get(url)\n",
    "type(response)"
   ]
  },
  {
   "cell_type": "markdown",
   "metadata": {
    "ein.tags": "worksheet-0",
    "slideshow": {
     "slide_type": "-"
    }
   },
   "source": [
    "We can check to see if the query \"worked\" by checking the `status code`."
   ]
  },
  {
   "cell_type": "code",
   "execution_count": 31,
   "metadata": {
    "autoscroll": false,
    "collapsed": false,
    "ein.hycell": false,
    "ein.tags": "worksheet-0",
    "slideshow": {
     "slide_type": "-"
    }
   },
   "outputs": [
    {
     "data": {
      "text/plain": [
       "200"
      ]
     },
     "execution_count": 31,
     "metadata": {},
     "output_type": "execute_result"
    }
   ],
   "source": [
    "response.status_code"
   ]
  },
  {
   "cell_type": "markdown",
   "metadata": {
    "ein.tags": "worksheet-0",
    "slideshow": {
     "slide_type": "-"
    }
   },
   "source": [
    "A status code of `200` means that the API call was successful. We can also look at a few details about the response by examing the response `headers`. "
   ]
  },
  {
   "cell_type": "code",
   "execution_count": 32,
   "metadata": {
    "autoscroll": false,
    "collapsed": false,
    "ein.hycell": false,
    "ein.tags": "worksheet-0",
    "slideshow": {
     "slide_type": "-"
    }
   },
   "outputs": [
    {
     "data": {
      "text/plain": [
       "{'Server': 'openresty/1.15.8.2', 'Date': 'Thu, 12 Dec 2019 18:47:19 GMT', 'Content-Type': 'application/json', 'Transfer-Encoding': 'chunked', 'Connection': 'keep-alive', 'Vary': 'Accept-Encoding', 'Strict-Transport-Security': 'max-age=15724800; includeSubDomains', 'Content-Encoding': 'gzip'}"
      ]
     },
     "execution_count": 32,
     "metadata": {},
     "output_type": "execute_result"
    }
   ],
   "source": [
    "response.headers"
   ]
  },
  {
   "cell_type": "markdown",
   "metadata": {
    "ein.tags": "worksheet-0",
    "slideshow": {
     "slide_type": "-"
    }
   },
   "source": [
    "In particular, we can note that the `content-type` is `application/json`. The content type header, if set appropriately by the server, \n",
    "tells us how to deal with the content. In this case, the content type is `json`. The python requests library includes a convenience \n",
    "function, `Response.json()`, that returns a python `dict` after parsing the json. Perhaps it is easier to understand by looking at an \n",
    "example."
   ]
  },
  {
   "cell_type": "code",
   "execution_count": 33,
   "metadata": {
    "autoscroll": false,
    "collapsed": false,
    "ein.hycell": false,
    "ein.tags": "worksheet-0",
    "slideshow": {
     "slide_type": "-"
    }
   },
   "outputs": [],
   "source": [
    "study_record = response.json()"
   ]
  },
  {
   "cell_type": "code",
   "execution_count": 34,
   "metadata": {
    "autoscroll": false,
    "collapsed": false,
    "ein.hycell": false,
    "ein.tags": "worksheet-0",
    "slideshow": {
     "slide_type": "-"
    }
   },
   "outputs": [
    {
     "data": {
      "text/plain": [
       "{'pubmed_ids': [],\n 'attributes': [{'value': 'PRJNA75897', 'tag': 'parent_bioproject'}],\n 'BioProject': 'PRJNA75899',\n 'study_type': 'Other',\n 'alias': 'phs000424',\n 'identifiers': [{'id': 'PRJNA75899', 'namespace': 'BioProject'},\n  {'id': 'phs000424', 'namespace': 'dbGaP'},\n  {'id': 'phs000424', 'namespace': 'dbGaP'}],\n 'abstract': 'Lay Description.  The aim of the Genotype-Tissue Expression (GTEx) Project is to increase our understanding of how changes in our genes affect human health and disease with the ultimate goal of improving health care for future generations. GTEx will create a database that researchers can use to study how inherited changes in genes lead to common diseases.  GTEx researchers are studying genes in different tissues obtained from many different people. The GTEx project also includes a study of the GTEx donor consent process - this study will help ensure that the consent process and other aspects of the project effectively address the concerns and expectations of participants in the study. GTEx is a pioneering project that uses state-of-the-art protocols for obtaining and storing a large range of organs and tissues, and for testing them in the lab. Until now, no project has analyzed genetic variation and expression in as many tissues from the same person in... (for more see dbGaP study page.)',\n 'accession': 'SRP012682',\n 'title': 'Genotype-Tissue Expression (GTEx) Common Fund Project',\n 'center_name': 'dbGaP',\n 'status': 'live',\n 'insdc': True,\n 'lastupdate': '2017-09-17T10:26:44',\n 'published': '2014-02-14T22:56:17',\n 'received': '2012-05-04T15:43:05',\n 'sample_count': '14249',\n 'experiment_count': '24588',\n 'run_count': '24588',\n 'total_bases': '343115501734811',\n 'total_spots': '1698588305124',\n 'mean_bases_per_run': 14030484634.42286,\n 'taxon_ids': ['9606']}"
      ]
     },
     "execution_count": 34,
     "metadata": {},
     "output_type": "execute_result"
    }
   ],
   "source": [
    "study_record"
   ]
  },
  {
   "cell_type": "markdown",
   "metadata": {
    "ein.tags": "worksheet-0",
    "slideshow": {
     "slide_type": "-"
    }
   },
   "source": [
    "So, the record that we grabbed from the API is the record for the GTeX project. See the `title` key for \"proof\"."
   ]
  },
  {
   "cell_type": "code",
   "execution_count": 35,
   "metadata": {
    "autoscroll": false,
    "collapsed": false,
    "ein.hycell": false,
    "ein.tags": "worksheet-0",
    "slideshow": {
     "slide_type": "-"
    }
   },
   "outputs": [
    {
     "data": {
      "text/plain": [
       "'Genotype-Tissue Expression (GTEx) Common Fund Project'"
      ]
     },
     "execution_count": 35,
     "metadata": {},
     "output_type": "execute_result"
    }
   ],
   "source": [
    "study_record['title']"
   ]
  },
  {
   "cell_type": "markdown",
   "metadata": {
    "ein.tags": "worksheet-0",
    "slideshow": {
     "slide_type": "-"
    }
   },
   "source": [
    "The API documentation for the \"endpoint\" we just used to fetch a specific study is [here](http://api.omicidx.cancerdatasci.org/docs#/SRA/get_study_accession_sra_study__accession__get)."
   ]
  },
  {
   "cell_type": "markdown",
   "metadata": {
    "ein.tags": "worksheet-0",
    "slideshow": {
     "slide_type": "-"
    }
   },
   "source": [
    "Replacing the `study` part of the URL with `sample`, `experiment`, or `run` will perform the same accession\n",
    "lookup for those types of accessions. For example, we fetch information about a sample by doing:"
   ]
  },
  {
   "cell_type": "code",
   "execution_count": 36,
   "metadata": {
    "autoscroll": false,
    "collapsed": false,
    "ein.hycell": false,
    "ein.tags": "worksheet-0",
    "slideshow": {
     "slide_type": "-"
    }
   },
   "outputs": [
    {
     "name": "stdout",
     "output_type": "stream",
     "text": [
      "http://api.omicidx.cancerdatasci.org/sra/samples/SRS000237\n"
     ]
    }
   ],
   "source": [
    "accession = 'SRS000237'\n",
    "path = '/sra/samples/'\n",
    "url = host + path + accession\n",
    "print(url)"
   ]
  },
  {
   "cell_type": "code",
   "execution_count": 37,
   "metadata": {
    "autoscroll": false,
    "collapsed": false,
    "ein.hycell": false,
    "ein.tags": "worksheet-0",
    "slideshow": {
     "slide_type": "-"
    }
   },
   "outputs": [],
   "source": [
    "response = requests.get(url)\n",
    "sample_record = response.json()"
   ]
  },
  {
   "cell_type": "code",
   "execution_count": 38,
   "metadata": {
    "autoscroll": false,
    "collapsed": false,
    "ein.hycell": false,
    "ein.tags": "worksheet-0",
    "slideshow": {
     "slide_type": "-"
    }
   },
   "outputs": [
    {
     "data": {
      "text/plain": [
       "{'attributes': [{'value': 'A6', 'tag': 'strain'},\n  {'value': 'type strain of Pseudarthrobacter chlorophenolicus',\n   'tag': 'type-material'}],\n 'xrefs': [],\n 'identifiers': [{'id': 'SAMN00000051', 'namespace': 'BioSample'},\n  {'id': 'FOOW_sample', 'namespace': 'DOE Joint Genome Institute'}],\n 'status': 'live',\n 'insdc': True,\n 'organism': 'Pseudarthrobacter chlorophenolicus A6',\n 'accession': 'SRS000237',\n 'description': 'Arthrobacter chlorophenolicus A6 isolate',\n 'BioSample': 'SAMN00000051',\n 'alias': 'FOOW_sample',\n 'taxon_id': '452863',\n 'title': 'Generic sample from Arthrobacter chlorophenolicus A6',\n 'lastupdate': '2019-06-20T20:14:28',\n 'published': '2008-04-04T12:45:00',\n 'received': '2008-04-04T12:45:00',\n 'study': {'pubmed_ids': [],\n  'attributes': [],\n  'BioProject': 'PRJNA20011',\n  'study_type': 'Whole Genome Sequencing',\n  'alias': 'FOOW_study',\n  'identifiers': [{'id': 'PRJNA20011', 'namespace': 'BioProject'},\n   {'id': 'FOOW_study', 'namespace': 'JGI'}],\n  'abstract': '<B><I>Arthrobacter chlorophenolicus</I> A6</B>. <I>Arthrobacter chlorophenolicus</I> A6 (DSM 12829) was isolated from soil at Fort Collins, Colorado and is able to use 4-chlorophenol as a sole source of carbon and energy. This organism can degrade 4-chlorophenol in soil at temperatures ranging from 5 to 28 <sup>o</sup>C making it a good candidate for bioremediation. The genome sequence of this organism will help elucidate the genes involved in the bioremediation of polychlorinated compounds.',\n  'accession': 'SRP000055',\n  'title': '4-chlorophenol-degrading bacterium',\n  'center_name': 'JGI',\n  'status': 'live',\n  'insdc': True,\n  'lastupdate': '2019-01-22T11:07:28',\n  'published': '2008-04-04T12:45:00',\n  'received': '2008-04-04T12:45:00'},\n 'experiment_count': '1',\n 'run_count': '1',\n 'total_bases': '138619860',\n 'total_spots': '522183',\n 'mean_bases_per_run': 138619860}"
      ]
     },
     "execution_count": 38,
     "metadata": {},
     "output_type": "execute_result"
    }
   ],
   "source": [
    "sample_record"
   ]
  },
  {
   "cell_type": "markdown",
   "metadata": {
    "ein.tags": "worksheet-0",
    "slideshow": {
     "slide_type": "-"
    }
   },
   "source": [
    "## Finding related records"
   ]
  },
  {
   "cell_type": "markdown",
   "metadata": {
    "ein.tags": "worksheet-0",
    "slideshow": {
     "slide_type": "-"
    }
   },
   "source": [
    "If we wanted to find all related samples in the GTeX project, we can use another type of API call to fetch records related to a parent \n",
    "record. See the [API documentation](http://api.omicidx.cancerdatasci.org/docs#/SRA/get_study_samples_sra_study__accession__samples_get) for details of the next API call."
   ]
  },
  {
   "cell_type": "code",
   "execution_count": 39,
   "metadata": {
    "autoscroll": false,
    "collapsed": false,
    "ein.hycell": false,
    "ein.tags": "worksheet-0",
    "slideshow": {
     "slide_type": "-"
    }
   },
   "outputs": [
    {
     "name": "stdout",
     "output_type": "stream",
     "text": [
      "http://api.omicidx.cancerdatasci.org/sra/studies/SRP012682/samples\n"
     ]
    }
   ],
   "source": [
    "study_accession = 'SRP012682'\n",
    "path = f'/sra/studies/{study_accession}/samples'\n",
    "url = host + path\n",
    "print(url)"
   ]
  },
  {
   "cell_type": "code",
   "execution_count": 40,
   "metadata": {
    "autoscroll": false,
    "collapsed": false,
    "ein.hycell": false,
    "ein.tags": "worksheet-0",
    "slideshow": {
     "slide_type": "-"
    }
   },
   "outputs": [],
   "source": [
    "response = requests.get(url)\n",
    "first_ten_gtex_samples = response.json()"
   ]
  },
  {
   "cell_type": "code",
   "execution_count": 41,
   "metadata": {
    "autoscroll": false,
    "collapsed": false,
    "ein.hycell": false,
    "ein.tags": "worksheet-0",
    "slideshow": {
     "slide_type": "-"
    }
   },
   "outputs": [
    {
     "data": {
      "text/plain": [
       "10"
      ]
     },
     "execution_count": 41,
     "metadata": {},
     "output_type": "execute_result"
    }
   ],
   "source": [
    "len(first_ten_gtex_samples['hits'])"
   ]
  },
  {
   "cell_type": "code",
   "execution_count": 42,
   "metadata": {
    "autoscroll": false,
    "collapsed": false,
    "ein.hycell": false,
    "ein.tags": "worksheet-0",
    "slideshow": {
     "slide_type": "-"
    }
   },
   "outputs": [
    {
     "data": {
      "text/plain": [
       "{'attributes': [{'value': 'phs000424', 'tag': 'gap_accession'},\n  {'value': 'GTEx', 'tag': 'submitter handle'},\n  {'value': 'GTEx', 'tag': 'biospecimen repository'},\n  {'value': 'Genotype-Tissue Expression (GTEx)', 'tag': 'study name'},\n  {'value': 'Cross-Sectional', 'tag': 'study design'},\n  {'value': 'GTEX-WEY5-1826-SM-5CHRT_rep2',\n   'tag': 'biospecimen repository sample id'},\n  {'value': 'GTEX-WEY5-1826-SM-5CHRT_rep2', 'tag': 'submitted sample id'},\n  {'value': 'GTEX-WEY5', 'tag': 'submitted subject id'},\n  {'value': '1664162', 'tag': 'gap_sample_id'},\n  {'value': '706583', 'tag': 'gap_subject_id'},\n  {'value': 'female', 'tag': 'sex'},\n  {'value': 'Skin - Sun Exposed (Lower leg)', 'tag': 'body site'},\n  {'value': 'Skin', 'tag': 'histological type'},\n  {'value': 'RNA:Total RNA', 'tag': 'analyte type'},\n  {'value': 'No', 'tag': 'is tumor'},\n  {'value': '1', 'tag': 'gap_consent_code'},\n  {'value': 'GRU', 'tag': 'gap_consent_short_name'}],\n 'xrefs': [],\n 'identifiers': [{'id': 'SAMN03878238', 'namespace': 'BioSample'},\n  {'id': '424-GTEX-WEY5-1826-SM-5CHRT_rep2', 'namespace': 'dbGaP'},\n  {'id': '424-GTEX-WEY5-1826-SM-5CHRT_rep2', 'namespace': 'dbGaP'},\n  {'id': 'GTEX-WEY5-1826-SM-5CHRT_rep2', 'namespace': 'phs000424'},\n  {'id': 'GTEX-WEY5-1826-SM-5CHRT_rep2', 'namespace': 'phs000424'}],\n 'status': 'live',\n 'insdc': True,\n 'organism': 'Homo sapiens',\n 'accession': 'SRS1017133',\n 'BioSample': 'SAMN03878238',\n 'alias': 'GTEX-WEY5-1826-SM-5CHRT_rep2',\n 'taxon_id': '9606',\n 'title': 'Non-tumor RNA:Total RNA sample from Skin - Sun Exposed (Lower leg) of a human female participant in the dbGaP study \"Genotype-Tissue Expression (GTEx)\"',\n 'lastupdate': '2019-05-22T16:42:35',\n 'published': '2015-09-30T04:41:11',\n 'received': '2015-07-30T11:59:13',\n 'study': {'pubmed_ids': [],\n  'attributes': [{'value': 'PRJNA75897', 'tag': 'parent_bioproject'}],\n  'BioProject': 'PRJNA75899',\n  'study_type': 'Other',\n  'alias': 'phs000424',\n  'identifiers': [{'id': 'PRJNA75899', 'namespace': 'BioProject'},\n   {'id': 'phs000424', 'namespace': 'dbGaP'},\n   {'id': 'phs000424', 'namespace': 'dbGaP'}],\n  'abstract': 'Lay Description.  The aim of the Genotype-Tissue Expression (GTEx) Project is to increase our understanding of how changes in our genes affect human health and disease with the ultimate goal of improving health care for future generations. GTEx will create a database that researchers can use to study how inherited changes in genes lead to common diseases.  GTEx researchers are studying genes in different tissues obtained from many different people. The GTEx project also includes a study of the GTEx donor consent process - this study will help ensure that the consent process and other aspects of the project effectively address the concerns and expectations of participants in the study. GTEx is a pioneering project that uses state-of-the-art protocols for obtaining and storing a large range of organs and tissues, and for testing them in the lab. Until now, no project has analyzed genetic variation and expression in as many tissues from the same person in... (for more see dbGaP study page.)',\n  'accession': 'SRP012682',\n  'title': 'Genotype-Tissue Expression (GTEx) Common Fund Project',\n  'center_name': 'dbGaP',\n  'status': 'live',\n  'insdc': True,\n  'lastupdate': '2017-09-17T10:26:44',\n  'published': '2014-02-14T22:56:17',\n  'received': '2012-05-04T15:43:05'},\n 'experiment_count': '1',\n 'run_count': '1'}"
      ]
     },
     "execution_count": 42,
     "metadata": {},
     "output_type": "execute_result"
    }
   ],
   "source": [
    "first_ten_gtex_samples['hits'][0]"
   ]
  },
  {
   "cell_type": "code",
   "execution_count": 43,
   "metadata": {
    "autoscroll": false,
    "collapsed": false,
    "ein.hycell": false,
    "ein.tags": "worksheet-0",
    "slideshow": {
     "slide_type": "-"
    }
   },
   "outputs": [
    {
     "data": {
      "text/plain": [
       "{'total': 10000, 'took': 11}"
      ]
     },
     "execution_count": 43,
     "metadata": {},
     "output_type": "execute_result"
    }
   ],
   "source": [
    "first_ten_gtex_samples['stats'] # max reported \"total\" currently 10000, but I consider this a bug and will fix"
   ]
  },
  {
   "cell_type": "code",
   "execution_count": 44,
   "metadata": {
    "autoscroll": false,
    "collapsed": false,
    "ein.hycell": false,
    "ein.tags": "worksheet-0",
    "slideshow": {
     "slide_type": "-"
    }
   },
   "outputs": [
    {
     "name": "stdout",
     "output_type": "stream",
     "text": [
      "accession:  SRS1017133 \n",
      "   title:  Non-tumor RNA:Total RNA sample from Skin - Sun Exposed (Lower leg) of a human female participant in the dbGaP study \"Genotype-Tissue Expression (GTEx)\"\n",
      "accession:  SRS1017134 \n",
      "   title:  Non-tumor RNA:Total RNA sample from Testis of a human male participant in the dbGaP study \"Genotype-Tissue Expression (GTEx)\"\n",
      "accession:  SRS1017135 \n",
      "   title:  Non-tumor RNA:Total RNA sample from Thyroid of a human male participant in the dbGaP study \"Genotype-Tissue Expression (GTEx)\"\n",
      "accession:  SRS1017136 \n",
      "   title:  Non-tumor RNA:Total RNA sample from Thyroid of a human male participant in the dbGaP study \"Genotype-Tissue Expression (GTEx)\"\n",
      "accession:  SRS1017137 \n",
      "   title:  Non-tumor RNA:Total RNA sample from Stomach of a human male participant in the dbGaP study \"Genotype-Tissue Expression (GTEx)\"\n",
      "accession:  SRS1017138 \n",
      "   title:  Non-tumor RNA:Total RNA sample from Esophagus - Mucosa of a human male participant in the dbGaP study \"Genotype-Tissue Expression (GTEx)\"\n",
      "accession:  SRS1017139 \n",
      "   title:  Non-tumor RNA:Total RNA sample from Esophagus - Muscularis of a human male participant in the dbGaP study \"Genotype-Tissue Expression (GTEx)\"\n",
      "accession:  SRS1017140 \n",
      "   title:  Non-tumor RNA:Total RNA sample from Lung of a human male participant in the dbGaP study \"Genotype-Tissue Expression (GTEx)\"\n",
      "accession:  SRS1017141 \n",
      "   title:  Non-tumor RNA:Total RNA sample from Artery - Aorta of a human male participant in the dbGaP study \"Genotype-Tissue Expression (GTEx)\"\n",
      "accession:  SRS1017142 \n",
      "   title:  Non-tumor RNA:Total RNA sample from Artery - Aorta of a human male participant in the dbGaP study \"Genotype-Tissue Expression (GTEx)\"\n"
     ]
    }
   ],
   "source": [
    "for hit in first_ten_gtex_samples['hits']:\n",
    "    print('accession: ', hit['accession'], '\\n', '  title: ', hit['title'])"
   ]
  },
  {
   "cell_type": "markdown",
   "metadata": {
    "ein.tags": "worksheet-0",
    "slideshow": {
     "slide_type": "-"
    }
   },
   "source": [
    "### Interfacing with Pandas DataFrames\n",
    "\n",
    "The `pandas` package offers a `DataFrame` data structure that can be useful for \"row-like\" data like \n",
    "what the sample records represent. In addition, there is a nice `show` method available that makes\n",
    "pretty tables of the results when in an Jupyter notebook.\n",
    "\n",
    "In preparation for the next cell, make sure that the `pandas` package is installed:\n",
    "\n",
    "```\n",
    "pip install pandas\n",
    "```"
   ]
  },
  {
   "cell_type": "code",
   "execution_count": 46,
   "metadata": {
    "autoscroll": false,
    "collapsed": false,
    "ein.hycell": false,
    "ein.tags": "worksheet-0",
    "slideshow": {
     "slide_type": "-"
    }
   },
   "outputs": [
    {
     "data": {
      "text/html": [
       "<div>\n<style scoped>\n    .dataframe tbody tr th:only-of-type {\n        vertical-align: middle;\n    }\n\n    .dataframe tbody tr th {\n        vertical-align: top;\n    }\n\n    .dataframe thead th {\n        text-align: right;\n    }\n</style>\n<table border=\"1\" class=\"dataframe\">\n  <thead>\n    <tr style=\"text-align: right;\">\n      <th></th>\n      <th>attributes</th>\n      <th>xrefs</th>\n      <th>identifiers</th>\n      <th>status</th>\n      <th>insdc</th>\n      <th>organism</th>\n      <th>accession</th>\n      <th>BioSample</th>\n      <th>alias</th>\n      <th>taxon_id</th>\n      <th>title</th>\n      <th>lastupdate</th>\n      <th>published</th>\n      <th>received</th>\n      <th>study</th>\n      <th>experiment_count</th>\n      <th>run_count</th>\n    </tr>\n  </thead>\n  <tbody>\n    <tr>\n      <th>0</th>\n      <td>[{'value': 'phs000424', 'tag': 'gap_accession'...</td>\n      <td>[]</td>\n      <td>[{'id': 'SAMN03878238', 'namespace': 'BioSampl...</td>\n      <td>live</td>\n      <td>True</td>\n      <td>Homo sapiens</td>\n      <td>SRS1017133</td>\n      <td>SAMN03878238</td>\n      <td>GTEX-WEY5-1826-SM-5CHRT_rep2</td>\n      <td>9606</td>\n      <td>Non-tumor RNA:Total RNA sample from Skin - Sun...</td>\n      <td>2019-05-22T16:42:35</td>\n      <td>2015-09-30T04:41:11</td>\n      <td>2015-07-30T11:59:13</td>\n      <td>{'pubmed_ids': [], 'attributes': [{'value': 'P...</td>\n      <td>1</td>\n      <td>1</td>\n    </tr>\n    <tr>\n      <th>1</th>\n      <td>[{'value': 'phs000424', 'tag': 'gap_accession'...</td>\n      <td>[]</td>\n      <td>[{'id': 'SAMN03877803', 'namespace': 'BioSampl...</td>\n      <td>live</td>\n      <td>True</td>\n      <td>Homo sapiens</td>\n      <td>SRS1017134</td>\n      <td>SAMN03877803</td>\n      <td>GTEX-SUCS-1326-SM-5CHQI_rep1</td>\n      <td>9606</td>\n      <td>Non-tumor RNA:Total RNA sample from Testis of ...</td>\n      <td>2019-05-22T16:43:19</td>\n      <td>2015-09-30T04:41:11</td>\n      <td>2015-07-30T11:59:14</td>\n      <td>{'pubmed_ids': [], 'attributes': [{'value': 'P...</td>\n      <td>1</td>\n      <td>1</td>\n    </tr>\n    <tr>\n      <th>2</th>\n      <td>[{'value': 'phs000424', 'tag': 'gap_accession'...</td>\n      <td>[]</td>\n      <td>[{'id': 'SAMN03877676', 'namespace': 'BioSampl...</td>\n      <td>live</td>\n      <td>True</td>\n      <td>Homo sapiens</td>\n      <td>SRS1017135</td>\n      <td>SAMN03877676</td>\n      <td>GTEX-SUCS-0226-SM-5CHQG_rep2</td>\n      <td>9606</td>\n      <td>Non-tumor RNA:Total RNA sample from Thyroid of...</td>\n      <td>2019-05-22T17:13:20</td>\n      <td>2015-09-30T04:35:30</td>\n      <td>2015-07-30T11:59:16</td>\n      <td>{'pubmed_ids': [], 'attributes': [{'value': 'P...</td>\n      <td>1</td>\n      <td>1</td>\n    </tr>\n    <tr>\n      <th>3</th>\n      <td>[{'value': 'phs000424', 'tag': 'gap_accession'...</td>\n      <td>[]</td>\n      <td>[{'id': 'SAMN03877663', 'namespace': 'BioSampl...</td>\n      <td>live</td>\n      <td>True</td>\n      <td>Homo sapiens</td>\n      <td>SRS1017136</td>\n      <td>SAMN03877663</td>\n      <td>GTEX-SUCS-0226-SM-5CHQG_rep1</td>\n      <td>9606</td>\n      <td>Non-tumor RNA:Total RNA sample from Thyroid of...</td>\n      <td>2019-05-22T16:43:19</td>\n      <td>2015-09-30T04:41:11</td>\n      <td>2015-07-30T11:59:16</td>\n      <td>{'pubmed_ids': [], 'attributes': [{'value': 'P...</td>\n      <td>1</td>\n      <td>1</td>\n    </tr>\n    <tr>\n      <th>4</th>\n      <td>[{'value': 'phs000424', 'tag': 'gap_accession'...</td>\n      <td>[]</td>\n      <td>[{'id': 'SAMN03878267', 'namespace': 'BioSampl...</td>\n      <td>live</td>\n      <td>True</td>\n      <td>Homo sapiens</td>\n      <td>SRS1017137</td>\n      <td>SAMN03878267</td>\n      <td>GTEX-WFG8-1326-SM-5CHRX_rep1</td>\n      <td>9606</td>\n      <td>Non-tumor RNA:Total RNA sample from Stomach of...</td>\n      <td>2019-05-22T17:40:17</td>\n      <td>2015-09-30T04:41:11</td>\n      <td>2015-07-30T12:00:12</td>\n      <td>{'pubmed_ids': [], 'attributes': [{'value': 'P...</td>\n      <td>1</td>\n      <td>1</td>\n    </tr>\n    <tr>\n      <th>5</th>\n      <td>[{'value': 'phs000424', 'tag': 'gap_accession'...</td>\n      <td>[]</td>\n      <td>[{'id': 'SAMN03878358', 'namespace': 'BioSampl...</td>\n      <td>live</td>\n      <td>True</td>\n      <td>Homo sapiens</td>\n      <td>SRS1017138</td>\n      <td>SAMN03878358</td>\n      <td>GTEX-WFG8-1226-SM-5CHTQ_rep1</td>\n      <td>9606</td>\n      <td>Non-tumor RNA:Total RNA sample from Esophagus ...</td>\n      <td>2019-05-22T17:40:18</td>\n      <td>2015-09-30T04:41:11</td>\n      <td>2015-07-30T12:00:12</td>\n      <td>{'pubmed_ids': [], 'attributes': [{'value': 'P...</td>\n      <td>1</td>\n      <td>1</td>\n    </tr>\n    <tr>\n      <th>6</th>\n      <td>[{'value': 'phs000424', 'tag': 'gap_accession'...</td>\n      <td>[]</td>\n      <td>[{'id': 'SAMN03878051', 'namespace': 'BioSampl...</td>\n      <td>live</td>\n      <td>True</td>\n      <td>Homo sapiens</td>\n      <td>SRS1017139</td>\n      <td>SAMN03878051</td>\n      <td>GTEX-WFG8-1026-SM-5CHRZ_rep1</td>\n      <td>9606</td>\n      <td>Non-tumor RNA:Total RNA sample from Esophagus ...</td>\n      <td>2019-05-22T16:43:20</td>\n      <td>2015-09-30T04:41:11</td>\n      <td>2015-07-30T12:00:12</td>\n      <td>{'pubmed_ids': [], 'attributes': [{'value': 'P...</td>\n      <td>1</td>\n      <td>1</td>\n    </tr>\n    <tr>\n      <th>7</th>\n      <td>[{'value': 'phs000424', 'tag': 'gap_accession'...</td>\n      <td>[]</td>\n      <td>[{'id': 'SAMN03878188', 'namespace': 'BioSampl...</td>\n      <td>live</td>\n      <td>True</td>\n      <td>Homo sapiens</td>\n      <td>SRS1017140</td>\n      <td>SAMN03878188</td>\n      <td>GTEX-WFG8-0926-SM-5CHSF_rep1</td>\n      <td>9606</td>\n      <td>Non-tumor RNA:Total RNA sample from Lung of a ...</td>\n      <td>2019-05-22T17:12:17</td>\n      <td>2015-09-30T04:41:11</td>\n      <td>2015-07-30T12:00:13</td>\n      <td>{'pubmed_ids': [], 'attributes': [{'value': 'P...</td>\n      <td>1</td>\n      <td>1</td>\n    </tr>\n    <tr>\n      <th>8</th>\n      <td>[{'value': 'phs000424', 'tag': 'gap_accession'...</td>\n      <td>[]</td>\n      <td>[{'id': 'SAMN03877516', 'namespace': 'BioSampl...</td>\n      <td>live</td>\n      <td>True</td>\n      <td>Homo sapiens</td>\n      <td>SRS1017141</td>\n      <td>SAMN03877516</td>\n      <td>GTEX-WFG8-0826-SM-5CHQY_rep2</td>\n      <td>9606</td>\n      <td>Non-tumor RNA:Total RNA sample from Artery - A...</td>\n      <td>2019-05-22T17:40:18</td>\n      <td>2015-09-30T04:35:30</td>\n      <td>2015-07-30T12:00:13</td>\n      <td>{'pubmed_ids': [], 'attributes': [{'value': 'P...</td>\n      <td>1</td>\n      <td>1</td>\n    </tr>\n    <tr>\n      <th>9</th>\n      <td>[{'value': 'phs000424', 'tag': 'gap_accession'...</td>\n      <td>[]</td>\n      <td>[{'id': 'SAMN03877896', 'namespace': 'BioSampl...</td>\n      <td>live</td>\n      <td>True</td>\n      <td>Homo sapiens</td>\n      <td>SRS1017142</td>\n      <td>SAMN03877896</td>\n      <td>GTEX-WFG8-0826-SM-5CHQY_rep1</td>\n      <td>9606</td>\n      <td>Non-tumor RNA:Total RNA sample from Artery - A...</td>\n      <td>2019-05-22T16:43:19</td>\n      <td>2015-09-30T04:41:10</td>\n      <td>2015-07-30T12:00:13</td>\n      <td>{'pubmed_ids': [], 'attributes': [{'value': 'P...</td>\n      <td>1</td>\n      <td>1</td>\n    </tr>\n  </tbody>\n</table>\n</div>"
      ],
      "text/plain": [
       "                                          attributes xrefs  \\\n0  [{'value': 'phs000424', 'tag': 'gap_accession'...    []   \n1  [{'value': 'phs000424', 'tag': 'gap_accession'...    []   \n2  [{'value': 'phs000424', 'tag': 'gap_accession'...    []   \n3  [{'value': 'phs000424', 'tag': 'gap_accession'...    []   \n4  [{'value': 'phs000424', 'tag': 'gap_accession'...    []   \n5  [{'value': 'phs000424', 'tag': 'gap_accession'...    []   \n6  [{'value': 'phs000424', 'tag': 'gap_accession'...    []   \n7  [{'value': 'phs000424', 'tag': 'gap_accession'...    []   \n8  [{'value': 'phs000424', 'tag': 'gap_accession'...    []   \n9  [{'value': 'phs000424', 'tag': 'gap_accession'...    []   \n\n                                         identifiers status  insdc  \\\n0  [{'id': 'SAMN03878238', 'namespace': 'BioSampl...   live   True   \n1  [{'id': 'SAMN03877803', 'namespace': 'BioSampl...   live   True   \n2  [{'id': 'SAMN03877676', 'namespace': 'BioSampl...   live   True   \n3  [{'id': 'SAMN03877663', 'namespace': 'BioSampl...   live   True   \n4  [{'id': 'SAMN03878267', 'namespace': 'BioSampl...   live   True   \n5  [{'id': 'SAMN03878358', 'namespace': 'BioSampl...   live   True   \n6  [{'id': 'SAMN03878051', 'namespace': 'BioSampl...   live   True   \n7  [{'id': 'SAMN03878188', 'namespace': 'BioSampl...   live   True   \n8  [{'id': 'SAMN03877516', 'namespace': 'BioSampl...   live   True   \n9  [{'id': 'SAMN03877896', 'namespace': 'BioSampl...   live   True   \n\n       organism   accession     BioSample                         alias  \\\n0  Homo sapiens  SRS1017133  SAMN03878238  GTEX-WEY5-1826-SM-5CHRT_rep2   \n1  Homo sapiens  SRS1017134  SAMN03877803  GTEX-SUCS-1326-SM-5CHQI_rep1   \n2  Homo sapiens  SRS1017135  SAMN03877676  GTEX-SUCS-0226-SM-5CHQG_rep2   \n3  Homo sapiens  SRS1017136  SAMN03877663  GTEX-SUCS-0226-SM-5CHQG_rep1   \n4  Homo sapiens  SRS1017137  SAMN03878267  GTEX-WFG8-1326-SM-5CHRX_rep1   \n5  Homo sapiens  SRS1017138  SAMN03878358  GTEX-WFG8-1226-SM-5CHTQ_rep1   \n6  Homo sapiens  SRS1017139  SAMN03878051  GTEX-WFG8-1026-SM-5CHRZ_rep1   \n7  Homo sapiens  SRS1017140  SAMN03878188  GTEX-WFG8-0926-SM-5CHSF_rep1   \n8  Homo sapiens  SRS1017141  SAMN03877516  GTEX-WFG8-0826-SM-5CHQY_rep2   \n9  Homo sapiens  SRS1017142  SAMN03877896  GTEX-WFG8-0826-SM-5CHQY_rep1   \n\n  taxon_id                                              title  \\\n0     9606  Non-tumor RNA:Total RNA sample from Skin - Sun...   \n1     9606  Non-tumor RNA:Total RNA sample from Testis of ...   \n2     9606  Non-tumor RNA:Total RNA sample from Thyroid of...   \n3     9606  Non-tumor RNA:Total RNA sample from Thyroid of...   \n4     9606  Non-tumor RNA:Total RNA sample from Stomach of...   \n5     9606  Non-tumor RNA:Total RNA sample from Esophagus ...   \n6     9606  Non-tumor RNA:Total RNA sample from Esophagus ...   \n7     9606  Non-tumor RNA:Total RNA sample from Lung of a ...   \n8     9606  Non-tumor RNA:Total RNA sample from Artery - A...   \n9     9606  Non-tumor RNA:Total RNA sample from Artery - A...   \n\n            lastupdate            published             received  \\\n0  2019-05-22T16:42:35  2015-09-30T04:41:11  2015-07-30T11:59:13   \n1  2019-05-22T16:43:19  2015-09-30T04:41:11  2015-07-30T11:59:14   \n2  2019-05-22T17:13:20  2015-09-30T04:35:30  2015-07-30T11:59:16   \n3  2019-05-22T16:43:19  2015-09-30T04:41:11  2015-07-30T11:59:16   \n4  2019-05-22T17:40:17  2015-09-30T04:41:11  2015-07-30T12:00:12   \n5  2019-05-22T17:40:18  2015-09-30T04:41:11  2015-07-30T12:00:12   \n6  2019-05-22T16:43:20  2015-09-30T04:41:11  2015-07-30T12:00:12   \n7  2019-05-22T17:12:17  2015-09-30T04:41:11  2015-07-30T12:00:13   \n8  2019-05-22T17:40:18  2015-09-30T04:35:30  2015-07-30T12:00:13   \n9  2019-05-22T16:43:19  2015-09-30T04:41:10  2015-07-30T12:00:13   \n\n                                               study experiment_count  \\\n0  {'pubmed_ids': [], 'attributes': [{'value': 'P...                1   \n1  {'pubmed_ids': [], 'attributes': [{'value': 'P...                1   \n2  {'pubmed_ids': [], 'attributes': [{'value': 'P...                1   \n3  {'pubmed_ids': [], 'attributes': [{'value': 'P...                1   \n4  {'pubmed_ids': [], 'attributes': [{'value': 'P...                1   \n5  {'pubmed_ids': [], 'attributes': [{'value': 'P...                1   \n6  {'pubmed_ids': [], 'attributes': [{'value': 'P...                1   \n7  {'pubmed_ids': [], 'attributes': [{'value': 'P...                1   \n8  {'pubmed_ids': [], 'attributes': [{'value': 'P...                1   \n9  {'pubmed_ids': [], 'attributes': [{'value': 'P...                1   \n\n  run_count  \n0         1  \n1         1  \n2         1  \n3         1  \n4         1  \n5         1  \n6         1  \n7         1  \n8         1  \n9         1  "
      ]
     },
     "execution_count": 46,
     "metadata": {},
     "output_type": "execute_result"
    }
   ],
   "source": [
    "import pandas as pd\n",
    "sample_dataframe = pd.DataFrame.from_dict(first_ten_gtex_samples['hits'])\n",
    "sample_dataframe"
   ]
  },
  {
   "cell_type": "markdown",
   "metadata": {
    "ein.tags": "worksheet-0",
    "slideshow": {
     "slide_type": "-"
    }
   },
   "source": [
    "## Searching\n",
    "\n",
    "[TODO] in more detail\n",
    "\n",
    "See [search documentation](http://api.omicidx.cancerdatasci.org/docs#/Search) for details.\n"
   ]
  },
  {
   "cell_type": "code",
   "execution_count": 18,
   "metadata": {
    "autoscroll": false,
    "collapsed": false,
    "ein.hycell": false,
    "ein.tags": "worksheet-0",
    "slideshow": {
     "slide_type": "-"
    }
   },
   "outputs": [],
   "source": [
    "path = '/sra/studies'\n",
    "url = host + path"
   ]
  },
  {
   "cell_type": "code",
   "execution_count": 19,
   "metadata": {
    "autoscroll": false,
    "collapsed": false,
    "ein.hycell": false,
    "ein.tags": "worksheet-0",
    "slideshow": {
     "slide_type": "-"
    }
   },
   "outputs": [],
   "source": [
    "response = requests.get(url, params = {\"q\":'cancer AND title:breast'}) # note that title of \"AND\" matters"
   ]
  },
  {
   "cell_type": "code",
   "execution_count": 20,
   "metadata": {
    "autoscroll": false,
    "collapsed": false,
    "ein.hycell": false,
    "ein.tags": "worksheet-0",
    "slideshow": {
     "slide_type": "-"
    }
   },
   "outputs": [
    {
     "name": "stdout",
     "output_type": "stream",
     "text": [
      "{'total': 786, 'took': 3.0}\n",
      "accession: DRP000030\n",
      "  title: human epigenomics sequencing project of breast cancer and normal cell lines\n",
      "accession: DRP003592\n",
      "  title: Effects of 4T1 breast cancer on normal organ gene expressions\n",
      "accession: DRP003950\n",
      "  title: Time-course mRNA expression analysis of human breast cancer MCF-7 cells treated with tamoxifen up to 12 weeks\n",
      "accession: DRP005227\n",
      "  title: Elucidation of the genome-wide chromatin interactions for therapy-resistance of ER positive breast cancer\n",
      "accession: DRP005235\n",
      "  title: Elucidation of chromatin interactions for hormone therapy- resistance of ER positive breast cancer\n",
      "accession: ERP000258\n",
      "  title: Mouse Breast Cancer\n",
      "accession: ERP000380\n",
      "  title: ChIP-seq for FOXA1, ER and CTCF in breast cancer cell lines\n",
      "accession: ERP000604\n",
      "  title: Transcriptome analysis of MCF-7 breast cancer cell population to reveal the transcriptional diversity at the single cell level\n",
      "accession: ERP001755\n",
      "  title: Whole exome sequencing suggests much of non BRCA1/BRCA2 familial breast cancer is due to moderate and low penetrance susceptibility alleles.\n",
      "accession: ERP002221\n",
      "  title: miRNA expression profile in breast cancer cells\n"
     ]
    }
   ],
   "source": [
    "study_search_results = response.json()\n",
    "print(study_search_results['stats'])\n",
    "for hit in study_search_results['hits']:\n",
    "    print(f\"accession: {hit['accession']}\\n  title: {hit['title']}\")"
   ]
  },
  {
   "cell_type": "markdown",
   "metadata": {
    "ein.tags": "worksheet-0",
    "slideshow": {
     "slide_type": "-"
    }
   },
   "source": [
    "## Basic analytics\n",
    "\n",
    "\n",
    "See [search documentation](http://api.omicidx.cancerdatasci.org/docs#/Search) for details\n",
    "[TODO]"
   ]
  }
 ],
 "metadata": {
  "kernelspec": {
   "argv": [
    "/Users/sdavis2/miniconda3/bin/python",
    "-m",
    "ipykernel_launcher",
    "-f",
    "{connection_file}"
   ],
   "display_name": "Python 3",
   "env": null,
   "interrupt_mode": "signal",
   "language": "python",
   "metadata": null,
   "name": "python3"
  },
  "language_info": {
   "codemirror_mode": {
    "name": "ipython",
    "version": 3
   },
   "file_extension": ".py",
   "mimetype": "text/x-python",
   "name": "python",
   "nbconvert_exporter": "python",
   "pygments_lexer": "ipython3",
   "version": "3.7.3"
  },
  "name": "getting-started.ipynb"
 },
 "nbformat": 4,
 "nbformat_minor": 4
}
