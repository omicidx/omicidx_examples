{
 "cells": [
  {
   "cell_type": "markdown",
   "metadata": {},
   "source": [
    "# Use Cases"
   ]
  },
  {
   "cell_type": "markdown",
   "metadata": {},
   "source": [
    "## Retrieve a single entry\n",
    "\n",
    "We are going to start from scratch with a nuts-and-bolts approach to accessing _OmicIDX_ data. \n",
    "For this first example, let us assume that we know the accession number of an SRA study of interest.\n",
    "In this case, the example accession is `SRP012682`. Most folks will not recognize the significance\n",
    "of a specific SRA accession, but they can be broken down into components. In particular, the first three\n",
    "letters tell us the source of the accession as well as the type. \n",
    "\n",
    "The first letter will be an `S`, an `E`, or a `D` and signify that the accession originates with NCBI (S) in the US, \n",
    "EBI (E) in Europe, or DDBJ (D) in Japan, respectively. \n",
    "\n",
    "The third letter signifies the type of record in the SRA database. \n",
    "\n",
    "- `P` for study (or project)\n",
    "- `S` for sample\n",
    "- `X` for experiment\n",
    "- `R` for run\n",
    "\n",
    "So, the accession, `SRP012682` means that we are going to be fetching information about an SRA study (`P`) from a \n",
    "project that was originally submitted to NCBI (`S`) in the US.\n",
    "\n",
    "We will be using the python `requests` library to access the _OmicIDX_ API. As a first step, be sure to install the \n",
    "library:\n",
    "\n",
    "```bash\n",
    "pip install requests\n",
    "```\n",
    "\n",
    "Once installed, we can proceed with this introduction."
   ]
  },
  {
   "cell_type": "code",
   "execution_count": 2,
   "metadata": {},
   "outputs": [],
   "source": [
    "import requests"
   ]
  },
  {
   "cell_type": "markdown",
   "metadata": {},
   "source": [
    "In general, API requests will include at least the `host` part of a URL and the `path` part. In this case, an additional component\n",
    "of the API call is a *known* accession. Here, I assign these separate components to "
   ]
  },
  {
   "cell_type": "code",
   "execution_count": 20,
   "metadata": {},
   "outputs": [
    {
     "name": "stdout",
     "output_type": "stream",
     "text": [
      "http://api.omicidx.cancerdatasci.org/sra/study/SRP012682\n"
     ]
    }
   ],
   "source": [
    "host = 'http://api.omicidx.cancerdatasci.org'\n",
    "path = '/sra/study/'\n",
    "accession = 'SRP012682'\n",
    "url = host + path + accession\n",
    "print(url)"
   ]
  },
  {
   "cell_type": "markdown",
   "metadata": {},
   "source": [
    "Now, we can use the `requests.get()` function to retrieve the contents of the URL."
   ]
  },
  {
   "cell_type": "code",
   "execution_count": 14,
   "metadata": {},
   "outputs": [
    {
     "data": {
      "text/plain": [
       "requests.models.Response"
      ]
     },
     "execution_count": 14,
     "metadata": {},
     "output_type": "execute_result"
    }
   ],
   "source": [
    "response = requests.get(url)\n",
    "type(response)"
   ]
  },
  {
   "cell_type": "markdown",
   "metadata": {},
   "source": [
    "We can check to see if the query \"worked\" by checking the `status code`."
   ]
  },
  {
   "cell_type": "code",
   "execution_count": 15,
   "metadata": {},
   "outputs": [
    {
     "data": {
      "text/plain": [
       "200"
      ]
     },
     "execution_count": 15,
     "metadata": {},
     "output_type": "execute_result"
    }
   ],
   "source": [
    "response.status_code"
   ]
  },
  {
   "cell_type": "markdown",
   "metadata": {},
   "source": [
    "A status code of `200` means that the API call was successful. We can also look at a few details about the response by examing the response `headers`. "
   ]
  },
  {
   "cell_type": "code",
   "execution_count": 17,
   "metadata": {},
   "outputs": [
    {
     "data": {
      "text/plain": [
       "{'date': 'Sun, 08 Dec 2019 19:55:47 GMT', 'server': 'uvicorn', 'content-length': '1736', 'content-type': 'application/json'}"
      ]
     },
     "execution_count": 17,
     "metadata": {},
     "output_type": "execute_result"
    }
   ],
   "source": [
    "response.headers"
   ]
  },
  {
   "cell_type": "markdown",
   "metadata": {},
   "source": [
    "In particular, we can note that the `content-type` is `application/json`. The content type header, if set appropriately by the server, \n",
    "tells us how to deal with the content. In this case, the content type is `json`. The python requests library includes a convenience \n",
    "function, `Response.json()`, that returns a python `dict` after parsing the json. Perhaps it is easier to understand by looking at an \n",
    "example."
   ]
  },
  {
   "cell_type": "code",
   "execution_count": 18,
   "metadata": {},
   "outputs": [],
   "source": [
    "study_record = response.json()"
   ]
  },
  {
   "cell_type": "code",
   "execution_count": 19,
   "metadata": {},
   "outputs": [
    {
     "data": {
      "text/plain": [
       "{'pubmed_ids': [],\n",
       " 'attributes': [{'value': 'PRJNA75897', 'tag': 'parent_bioproject'}],\n",
       " 'BioProject': 'PRJNA75899',\n",
       " 'study_type': 'Other',\n",
       " 'alias': 'phs000424',\n",
       " 'identifiers': [{'id': 'PRJNA75899', 'namespace': 'BioProject'},\n",
       "  {'id': 'phs000424', 'namespace': 'dbGaP'},\n",
       "  {'id': 'phs000424', 'namespace': 'dbGaP'}],\n",
       " 'abstract': 'Lay Description.  The aim of the Genotype-Tissue Expression (GTEx) Project is to increase our understanding of how changes in our genes affect human health and disease with the ultimate goal of improving health care for future generations. GTEx will create a database that researchers can use to study how inherited changes in genes lead to common diseases.  GTEx researchers are studying genes in different tissues obtained from many different people. The GTEx project also includes a study of the GTEx donor consent process - this study will help ensure that the consent process and other aspects of the project effectively address the concerns and expectations of participants in the study. GTEx is a pioneering project that uses state-of-the-art protocols for obtaining and storing a large range of organs and tissues, and for testing them in the lab. Until now, no project has analyzed genetic variation and expression in as many tissues from the same person in... (for more see dbGaP study page.)',\n",
       " 'accession': 'SRP012682',\n",
       " 'title': 'Genotype-Tissue Expression (GTEx) Common Fund Project',\n",
       " 'center_name': 'dbGaP',\n",
       " 'status': 'live',\n",
       " 'insdc': True,\n",
       " 'lastupdate': '2017-09-17T10:26:44',\n",
       " 'published': '2014-02-14T22:56:17',\n",
       " 'received': '2012-05-04T15:43:05',\n",
       " 'sample_count': '14249',\n",
       " 'experiment_count': '24588',\n",
       " 'run_count': '24588',\n",
       " 'total_bases': '343115501734811',\n",
       " 'total_spots': '1698588305124',\n",
       " 'mean_bases_per_run': 14030484634.42286,\n",
       " 'taxon_ids': ['9606']}"
      ]
     },
     "execution_count": 19,
     "metadata": {},
     "output_type": "execute_result"
    }
   ],
   "source": [
    "study_record"
   ]
  },
  {
   "cell_type": "markdown",
   "metadata": {},
   "source": [
    "So, the record that we grabbed from the API is the record for the GTeX project. See the `title` key for \"proof\"."
   ]
  },
  {
   "cell_type": "code",
   "execution_count": 21,
   "metadata": {},
   "outputs": [
    {
     "data": {
      "text/plain": [
       "'Genotype-Tissue Expression (GTEx) Common Fund Project'"
      ]
     },
     "execution_count": 21,
     "metadata": {},
     "output_type": "execute_result"
    }
   ],
   "source": [
    "study_record['title']"
   ]
  },
  {
   "cell_type": "markdown",
   "metadata": {},
   "source": [
    "The API documentation for the \"endpoint\" we just used to fetch a specific study is [here](http://api.omicidx.cancerdatasci.org/docs#/SRA/get_study_accession_sra_study__accession__get)."
   ]
  },
  {
   "cell_type": "markdown",
   "metadata": {},
   "source": [
    "Replacing the `study` part of the URL with `sample`, `experiment`, or `run` will perform the same accession\n",
    "lookup for those types of accessions. For example, we fetch information about a sample by doing:"
   ]
  },
  {
   "cell_type": "code",
   "execution_count": 24,
   "metadata": {},
   "outputs": [
    {
     "name": "stdout",
     "output_type": "stream",
     "text": [
      "http://api.omicidx.cancerdatasci.org/sra/sample/SRS000237\n"
     ]
    }
   ],
   "source": [
    "accession = 'SRS000237'\n",
    "path = '/sra/sample/'\n",
    "url = host + path + accession\n",
    "print(url)"
   ]
  },
  {
   "cell_type": "code",
   "execution_count": 27,
   "metadata": {},
   "outputs": [],
   "source": [
    "response = requests.get(url)\n",
    "sample_record = response.json()"
   ]
  },
  {
   "cell_type": "code",
   "execution_count": 28,
   "metadata": {},
   "outputs": [
    {
     "data": {
      "text/plain": [
       "{'attributes': [{'value': 'A6', 'tag': 'strain'},\n",
       "  {'value': 'type strain of Pseudarthrobacter chlorophenolicus',\n",
       "   'tag': 'type-material'}],\n",
       " 'xrefs': [],\n",
       " 'identifiers': [{'id': 'SAMN00000051', 'namespace': 'BioSample'},\n",
       "  {'id': 'FOOW_sample', 'namespace': 'DOE Joint Genome Institute'}],\n",
       " 'status': 'live',\n",
       " 'insdc': True,\n",
       " 'organism': 'Pseudarthrobacter chlorophenolicus A6',\n",
       " 'accession': 'SRS000237',\n",
       " 'description': 'Arthrobacter chlorophenolicus A6 isolate',\n",
       " 'BioSample': 'SAMN00000051',\n",
       " 'alias': 'FOOW_sample',\n",
       " 'taxon_id': '452863',\n",
       " 'title': 'Generic sample from Arthrobacter chlorophenolicus A6',\n",
       " 'lastupdate': '2019-06-20T20:14:28',\n",
       " 'published': '2008-04-04T12:45:00',\n",
       " 'received': '2008-04-04T12:45:00',\n",
       " 'study': {'pubmed_ids': [],\n",
       "  'attributes': [],\n",
       "  'BioProject': 'PRJNA20011',\n",
       "  'study_type': 'Whole Genome Sequencing',\n",
       "  'alias': 'FOOW_study',\n",
       "  'identifiers': [{'id': 'PRJNA20011', 'namespace': 'BioProject'},\n",
       "   {'id': 'FOOW_study', 'namespace': 'JGI'}],\n",
       "  'abstract': '<B><I>Arthrobacter chlorophenolicus</I> A6</B>. <I>Arthrobacter chlorophenolicus</I> A6 (DSM 12829) was isolated from soil at Fort Collins, Colorado and is able to use 4-chlorophenol as a sole source of carbon and energy. This organism can degrade 4-chlorophenol in soil at temperatures ranging from 5 to 28 <sup>o</sup>C making it a good candidate for bioremediation. The genome sequence of this organism will help elucidate the genes involved in the bioremediation of polychlorinated compounds.',\n",
       "  'accession': 'SRP000055',\n",
       "  'title': '4-chlorophenol-degrading bacterium',\n",
       "  'center_name': 'JGI',\n",
       "  'status': 'live',\n",
       "  'insdc': True,\n",
       "  'lastupdate': '2019-01-22T11:07:28',\n",
       "  'published': '2008-04-04T12:45:00',\n",
       "  'received': '2008-04-04T12:45:00'},\n",
       " 'experiment_count': '1',\n",
       " 'run_count': '1',\n",
       " 'total_bases': '138619860',\n",
       " 'total_spots': '522183',\n",
       " 'mean_bases_per_run': 138619860}"
      ]
     },
     "execution_count": 28,
     "metadata": {},
     "output_type": "execute_result"
    }
   ],
   "source": [
    "sample_record"
   ]
  },
  {
   "cell_type": "markdown",
   "metadata": {},
   "source": [
    "## Finding related records"
   ]
  },
  {
   "cell_type": "markdown",
   "metadata": {},
   "source": [
    "If we wanted to find all related samples in the GTeX project, we can use another type of API call to fetch records related to a parent \n",
    "record. See the [API documentation](http://api.omicidx.cancerdatasci.org/docs#/SRA/get_study_samples_sra_study__accession__samples_get) for details of the next API call."
   ]
  },
  {
   "cell_type": "code",
   "execution_count": 31,
   "metadata": {},
   "outputs": [
    {
     "name": "stdout",
     "output_type": "stream",
     "text": [
      "http://api.omicidx.cancerdatasci.org/sra/study/SRP012682/samples\n"
     ]
    }
   ],
   "source": [
    "study_accession = 'SRP012682'\n",
    "path = f'/sra/study/{study_accession}/samples'\n",
    "url = host + path\n",
    "print(url)"
   ]
  },
  {
   "cell_type": "code",
   "execution_count": 32,
   "metadata": {},
   "outputs": [],
   "source": [
    "response = requests.get(url)\n",
    "first_ten_gtex_samples = response.json()"
   ]
  },
  {
   "cell_type": "code",
   "execution_count": 33,
   "metadata": {},
   "outputs": [
    {
     "data": {
      "text/plain": [
       "10"
      ]
     },
     "execution_count": 33,
     "metadata": {},
     "output_type": "execute_result"
    }
   ],
   "source": [
    "len(first_ten_gtex_samples['hits'])"
   ]
  },
  {
   "cell_type": "code",
   "execution_count": 41,
   "metadata": {},
   "outputs": [
    {
     "data": {
      "text/plain": [
       "{'attributes': [{'value': 'phs000424', 'tag': 'gap_accession'},\n",
       "  {'value': 'GTEx', 'tag': 'submitter handle'},\n",
       "  {'value': 'GTEx', 'tag': 'biospecimen repository'},\n",
       "  {'value': 'Genotype-Tissue Expression (GTEx)', 'tag': 'study name'},\n",
       "  {'value': 'Cross-Sectional', 'tag': 'study design'},\n",
       "  {'value': 'GTEX-WEY5-1826-SM-5CHRT_rep2',\n",
       "   'tag': 'biospecimen repository sample id'},\n",
       "  {'value': 'GTEX-WEY5-1826-SM-5CHRT_rep2', 'tag': 'submitted sample id'},\n",
       "  {'value': 'GTEX-WEY5', 'tag': 'submitted subject id'},\n",
       "  {'value': '1664162', 'tag': 'gap_sample_id'},\n",
       "  {'value': '706583', 'tag': 'gap_subject_id'},\n",
       "  {'value': 'female', 'tag': 'sex'},\n",
       "  {'value': 'Skin - Sun Exposed (Lower leg)', 'tag': 'body site'},\n",
       "  {'value': 'Skin', 'tag': 'histological type'},\n",
       "  {'value': 'RNA:Total RNA', 'tag': 'analyte type'},\n",
       "  {'value': 'No', 'tag': 'is tumor'},\n",
       "  {'value': '1', 'tag': 'gap_consent_code'},\n",
       "  {'value': 'GRU', 'tag': 'gap_consent_short_name'}],\n",
       " 'xrefs': [],\n",
       " 'identifiers': [{'id': 'SAMN03878238', 'namespace': 'BioSample'},\n",
       "  {'id': '424-GTEX-WEY5-1826-SM-5CHRT_rep2', 'namespace': 'dbGaP'},\n",
       "  {'id': '424-GTEX-WEY5-1826-SM-5CHRT_rep2', 'namespace': 'dbGaP'},\n",
       "  {'id': 'GTEX-WEY5-1826-SM-5CHRT_rep2', 'namespace': 'phs000424'},\n",
       "  {'id': 'GTEX-WEY5-1826-SM-5CHRT_rep2', 'namespace': 'phs000424'}],\n",
       " 'status': 'live',\n",
       " 'insdc': True,\n",
       " 'organism': 'Homo sapiens',\n",
       " 'accession': 'SRS1017133',\n",
       " 'BioSample': 'SAMN03878238',\n",
       " 'alias': 'GTEX-WEY5-1826-SM-5CHRT_rep2',\n",
       " 'taxon_id': '9606',\n",
       " 'title': 'Non-tumor RNA:Total RNA sample from Skin - Sun Exposed (Lower leg) of a human female participant in the dbGaP study \"Genotype-Tissue Expression (GTEx)\"',\n",
       " 'lastupdate': '2019-05-22T16:42:35',\n",
       " 'published': '2015-09-30T04:41:11',\n",
       " 'received': '2015-07-30T11:59:13',\n",
       " 'study': {'pubmed_ids': [],\n",
       "  'attributes': [{'value': 'PRJNA75897', 'tag': 'parent_bioproject'}],\n",
       "  'BioProject': 'PRJNA75899',\n",
       "  'study_type': 'Other',\n",
       "  'alias': 'phs000424',\n",
       "  'identifiers': [{'id': 'PRJNA75899', 'namespace': 'BioProject'},\n",
       "   {'id': 'phs000424', 'namespace': 'dbGaP'},\n",
       "   {'id': 'phs000424', 'namespace': 'dbGaP'}],\n",
       "  'abstract': 'Lay Description.  The aim of the Genotype-Tissue Expression (GTEx) Project is to increase our understanding of how changes in our genes affect human health and disease with the ultimate goal of improving health care for future generations. GTEx will create a database that researchers can use to study how inherited changes in genes lead to common diseases.  GTEx researchers are studying genes in different tissues obtained from many different people. The GTEx project also includes a study of the GTEx donor consent process - this study will help ensure that the consent process and other aspects of the project effectively address the concerns and expectations of participants in the study. GTEx is a pioneering project that uses state-of-the-art protocols for obtaining and storing a large range of organs and tissues, and for testing them in the lab. Until now, no project has analyzed genetic variation and expression in as many tissues from the same person in... (for more see dbGaP study page.)',\n",
       "  'accession': 'SRP012682',\n",
       "  'title': 'Genotype-Tissue Expression (GTEx) Common Fund Project',\n",
       "  'center_name': 'dbGaP',\n",
       "  'status': 'live',\n",
       "  'insdc': True,\n",
       "  'lastupdate': '2017-09-17T10:26:44',\n",
       "  'published': '2014-02-14T22:56:17',\n",
       "  'received': '2012-05-04T15:43:05'},\n",
       " 'experiment_count': '1',\n",
       " 'run_count': '1'}"
      ]
     },
     "execution_count": 41,
     "metadata": {},
     "output_type": "execute_result"
    }
   ],
   "source": [
    "first_ten_gtex_samples['hits'][0]"
   ]
  },
  {
   "cell_type": "code",
   "execution_count": 35,
   "metadata": {},
   "outputs": [
    {
     "data": {
      "text/plain": [
       "{'total': 10000, 'took': 512}"
      ]
     },
     "execution_count": 35,
     "metadata": {},
     "output_type": "execute_result"
    }
   ],
   "source": [
    "first_ten_gtex_samples['stats'] # max reported \"total\" currently 10000, but I consider this a bug and will fix"
   ]
  },
  {
   "cell_type": "code",
   "execution_count": 40,
   "metadata": {},
   "outputs": [
    {
     "name": "stdout",
     "output_type": "stream",
     "text": [
      "accession:  SRS1017133 \n",
      "   title:  Non-tumor RNA:Total RNA sample from Skin - Sun Exposed (Lower leg) of a human female participant in the dbGaP study \"Genotype-Tissue Expression (GTEx)\"\n",
      "accession:  SRS1017134 \n",
      "   title:  Non-tumor RNA:Total RNA sample from Testis of a human male participant in the dbGaP study \"Genotype-Tissue Expression (GTEx)\"\n",
      "accession:  SRS1017135 \n",
      "   title:  Non-tumor RNA:Total RNA sample from Thyroid of a human male participant in the dbGaP study \"Genotype-Tissue Expression (GTEx)\"\n",
      "accession:  SRS1017136 \n",
      "   title:  Non-tumor RNA:Total RNA sample from Thyroid of a human male participant in the dbGaP study \"Genotype-Tissue Expression (GTEx)\"\n",
      "accession:  SRS1017137 \n",
      "   title:  Non-tumor RNA:Total RNA sample from Stomach of a human male participant in the dbGaP study \"Genotype-Tissue Expression (GTEx)\"\n",
      "accession:  SRS1017138 \n",
      "   title:  Non-tumor RNA:Total RNA sample from Esophagus - Mucosa of a human male participant in the dbGaP study \"Genotype-Tissue Expression (GTEx)\"\n",
      "accession:  SRS1017139 \n",
      "   title:  Non-tumor RNA:Total RNA sample from Esophagus - Muscularis of a human male participant in the dbGaP study \"Genotype-Tissue Expression (GTEx)\"\n",
      "accession:  SRS1017140 \n",
      "   title:  Non-tumor RNA:Total RNA sample from Lung of a human male participant in the dbGaP study \"Genotype-Tissue Expression (GTEx)\"\n",
      "accession:  SRS1017141 \n",
      "   title:  Non-tumor RNA:Total RNA sample from Artery - Aorta of a human male participant in the dbGaP study \"Genotype-Tissue Expression (GTEx)\"\n",
      "accession:  SRS1017142 \n",
      "   title:  Non-tumor RNA:Total RNA sample from Artery - Aorta of a human male participant in the dbGaP study \"Genotype-Tissue Expression (GTEx)\"\n"
     ]
    }
   ],
   "source": [
    "for hit in first_ten_gtex_samples['hits']:\n",
    "    print('accession: ', hit['accession'], '\\n', '  title: ', hit['title'])"
   ]
  },
  {
   "cell_type": "markdown",
   "metadata": {},
   "source": [
    "## Searching\n",
    "\n",
    "[TODO] in more detail\n",
    "\n",
    "See [search documentation](http://api.omicidx.cancerdatasci.org/docs#/Search) for details.\n"
   ]
  },
  {
   "cell_type": "code",
   "execution_count": 42,
   "metadata": {},
   "outputs": [],
   "source": [
    "path = '/sra/studies/search'\n",
    "url = host + path"
   ]
  },
  {
   "cell_type": "code",
   "execution_count": 47,
   "metadata": {},
   "outputs": [],
   "source": [
    "response = requests.get(url, params = {\"q\":'cancer AND title:breast'}) # note that title of \"AND\" matters"
   ]
  },
  {
   "cell_type": "code",
   "execution_count": 48,
   "metadata": {},
   "outputs": [
    {
     "name": "stdout",
     "output_type": "stream",
     "text": [
      "{'total': 786, 'took': 3.0}\n",
      "accession: DRP000030\n",
      "  title: human epigenomics sequencing project of breast cancer and normal cell lines\n",
      "accession: DRP003592\n",
      "  title: Effects of 4T1 breast cancer on normal organ gene expressions\n",
      "accession: DRP003950\n",
      "  title: Time-course mRNA expression analysis of human breast cancer MCF-7 cells treated with tamoxifen up to 12 weeks\n",
      "accession: DRP005227\n",
      "  title: Elucidation of the genome-wide chromatin interactions for therapy-resistance of ER positive breast cancer\n",
      "accession: DRP005235\n",
      "  title: Elucidation of chromatin interactions for hormone therapy- resistance of ER positive breast cancer\n",
      "accession: ERP000258\n",
      "  title: Mouse Breast Cancer\n",
      "accession: ERP000380\n",
      "  title: ChIP-seq for FOXA1, ER and CTCF in breast cancer cell lines\n",
      "accession: ERP000604\n",
      "  title: Transcriptome analysis of MCF-7 breast cancer cell population to reveal the transcriptional diversity at the single cell level\n",
      "accession: ERP001755\n",
      "  title: Whole exome sequencing suggests much of non BRCA1/BRCA2 familial breast cancer is due to moderate and low penetrance susceptibility alleles.\n",
      "accession: ERP002221\n",
      "  title: miRNA expression profile in breast cancer cells\n"
     ]
    }
   ],
   "source": [
    "study_search_results = response.json()\n",
    "print(study_search_results['stats'])\n",
    "for hit in study_search_results['hits']:\n",
    "    print(f\"accession: {hit['accession']}\\n  title: {hit['title']}\")"
   ]
  },
  {
   "cell_type": "markdown",
   "metadata": {},
   "source": [
    "## Basic analytics\n",
    "\n",
    "\n",
    "See [search documentation](http://api.omicidx.cancerdatasci.org/docs#/Search) for details\n",
    "[TODO]"
   ]
  }
 ],
 "metadata": {
  "kernelspec": {
   "display_name": "Python 3",
   "language": "python",
   "name": "python3"
  },
  "language_info": {
   "codemirror_mode": {
    "name": "ipython",
    "version": 3
   },
   "file_extension": ".py",
   "mimetype": "text/x-python",
   "name": "python",
   "nbconvert_exporter": "python",
   "pygments_lexer": "ipython3",
   "version": "3.7.3"
  }
 },
 "nbformat": 4,
 "nbformat_minor": 4
}
